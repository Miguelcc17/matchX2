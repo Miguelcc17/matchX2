{
 "cells": [
  {
   "cell_type": "code",
   "execution_count": 1,
   "metadata": {},
   "outputs": [],
   "source": [
    "import pandas as pd\n",
    "import numpy as np\n",
    "import re\n",
    "import pandas as pd\n",
    "\n",
    "import matcher  \n",
    "import spacy\n"
   ]
  },
  {
   "cell_type": "code",
   "execution_count": 67,
   "metadata": {},
   "outputs": [],
   "source": [
    "# Cargar los datos del archivo CSV\n",
    "df = matcher.get_df('colores.csv')"
   ]
  },
  {
   "cell_type": "code",
   "execution_count": 69,
   "metadata": {},
   "outputs": [],
   "source": [
    "# nlp = spacy.load(\"en_core_web_sm\")\n",
    "nlp = spacy.load(\"fr_core_news_sm\")"
   ]
  },
  {
   "cell_type": "code",
   "execution_count": 47,
   "metadata": {},
   "outputs": [],
   "source": [
    "nlp = spacy.load(\"es_core_news_sm\")"
   ]
  },
  {
   "cell_type": "code",
   "execution_count": null,
   "metadata": {},
   "outputs": [],
   "source": [
    "\n",
    "\n",
    "# Crear un DataFrame de ejemplo\n",
    "data = {\n",
    "    \"texto\": [\"Esto es una prueba de lematización.\", \"Los gatos están durmiendo.\"],\n",
    "}\n",
    "df = pd.DataFrame(data)\n",
    "\n",
    "# Definir una función para lematizar el texto en la columna\n",
    "\n",
    "\n",
    "# Aplicar la función a la columna de texto\n",
    "df[\"lemmatized_text\"] = df[\"texto\"].apply(lemmatize_text)\n",
    "\n",
    "# Mostrar el DataFrame resultante\n",
    "print(df)"
   ]
  },
  {
   "cell_type": "code",
   "execution_count": 15,
   "metadata": {},
   "outputs": [],
   "source": [
    "def lemmatize_text(text):\n",
    "    doc = nlp(text)\n",
    "    lemmatized_text = \" \".join([token.lemma_ for token in doc])\n",
    "    return lemmatized_text"
   ]
  },
  {
   "cell_type": "code",
   "execution_count": null,
   "metadata": {},
   "outputs": [],
   "source": [
    "lemmatized_text = \" \".join([token.lemma_ for token in df])"
   ]
  },
  {
   "cell_type": "code",
   "execution_count": null,
   "metadata": {},
   "outputs": [],
   "source": [
    "doc = nlp(\"naranja\")\n",
    "for token in doc:\n",
    "    print(token.text, token.lemma_)"
   ]
  },
  {
   "cell_type": "code",
   "execution_count": 71,
   "metadata": {},
   "outputs": [],
   "source": [
    "df[\"word\"] = df[\"word\"].map(lambda x: x.lower())\n",
    "df[\"lemmatized_text\"] = df[\"word\"].apply(lemmatize_text)\n",
    "df[\"tag\"] = \"color\"\n",
    "df[\"language\"] = \"fr\""
   ]
  },
  {
   "cell_type": "code",
   "execution_count": 72,
   "metadata": {},
   "outputs": [
    {
     "data": {
      "text/html": [
       "<div>\n",
       "<style scoped>\n",
       "    .dataframe tbody tr th:only-of-type {\n",
       "        vertical-align: middle;\n",
       "    }\n",
       "\n",
       "    .dataframe tbody tr th {\n",
       "        vertical-align: top;\n",
       "    }\n",
       "\n",
       "    .dataframe thead th {\n",
       "        text-align: right;\n",
       "    }\n",
       "</style>\n",
       "<table border=\"1\" class=\"dataframe\">\n",
       "  <thead>\n",
       "    <tr style=\"text-align: right;\">\n",
       "      <th></th>\n",
       "      <th>word</th>\n",
       "      <th>lemmatized_text</th>\n",
       "      <th>tag</th>\n",
       "      <th>language</th>\n",
       "    </tr>\n",
       "  </thead>\n",
       "  <tbody>\n",
       "    <tr>\n",
       "      <th>0</th>\n",
       "      <td>rouge</td>\n",
       "      <td>rouge</td>\n",
       "      <td>color</td>\n",
       "      <td>fr</td>\n",
       "    </tr>\n",
       "    <tr>\n",
       "      <th>1</th>\n",
       "      <td>bleu</td>\n",
       "      <td>bleu</td>\n",
       "      <td>color</td>\n",
       "      <td>fr</td>\n",
       "    </tr>\n",
       "    <tr>\n",
       "      <th>2</th>\n",
       "      <td>jaune</td>\n",
       "      <td>jaune</td>\n",
       "      <td>color</td>\n",
       "      <td>fr</td>\n",
       "    </tr>\n",
       "    <tr>\n",
       "      <th>3</th>\n",
       "      <td>orange</td>\n",
       "      <td>oranger</td>\n",
       "      <td>color</td>\n",
       "      <td>fr</td>\n",
       "    </tr>\n",
       "    <tr>\n",
       "      <th>4</th>\n",
       "      <td>vert</td>\n",
       "      <td>vert</td>\n",
       "      <td>color</td>\n",
       "      <td>fr</td>\n",
       "    </tr>\n",
       "    <tr>\n",
       "      <th>5</th>\n",
       "      <td>violet</td>\n",
       "      <td>violet</td>\n",
       "      <td>color</td>\n",
       "      <td>fr</td>\n",
       "    </tr>\n",
       "    <tr>\n",
       "      <th>6</th>\n",
       "      <td>rouge√¢tre</td>\n",
       "      <td>rouge√¢tr</td>\n",
       "      <td>color</td>\n",
       "      <td>fr</td>\n",
       "    </tr>\n",
       "    <tr>\n",
       "      <th>7</th>\n",
       "      <td>vert olive</td>\n",
       "      <td>vert olive</td>\n",
       "      <td>color</td>\n",
       "      <td>fr</td>\n",
       "    </tr>\n",
       "    <tr>\n",
       "      <th>8</th>\n",
       "      <td>jeanne citron</td>\n",
       "      <td>jeanne citron</td>\n",
       "      <td>color</td>\n",
       "      <td>fr</td>\n",
       "    </tr>\n",
       "    <tr>\n",
       "      <th>9</th>\n",
       "      <td>blanc</td>\n",
       "      <td>blanc</td>\n",
       "      <td>color</td>\n",
       "      <td>fr</td>\n",
       "    </tr>\n",
       "    <tr>\n",
       "      <th>10</th>\n",
       "      <td>noir</td>\n",
       "      <td>noir</td>\n",
       "      <td>color</td>\n",
       "      <td>fr</td>\n",
       "    </tr>\n",
       "    <tr>\n",
       "      <th>11</th>\n",
       "      <td>gris</td>\n",
       "      <td>gris</td>\n",
       "      <td>color</td>\n",
       "      <td>fr</td>\n",
       "    </tr>\n",
       "  </tbody>\n",
       "</table>\n",
       "</div>"
      ],
      "text/plain": [
       "             word lemmatized_text    tag language\n",
       "0           rouge           rouge  color       fr\n",
       "1            bleu            bleu  color       fr\n",
       "2           jaune           jaune  color       fr\n",
       "3          orange         oranger  color       fr\n",
       "4            vert            vert  color       fr\n",
       "5          violet          violet  color       fr\n",
       "6      rouge√¢tre       rouge√¢tr  color       fr\n",
       "7      vert olive      vert olive  color       fr\n",
       "8   jeanne citron   jeanne citron  color       fr\n",
       "9           blanc           blanc  color       fr\n",
       "10           noir            noir  color       fr\n",
       "11           gris            gris  color       fr"
      ]
     },
     "execution_count": 72,
     "metadata": {},
     "output_type": "execute_result"
    }
   ],
   "source": [
    "df"
   ]
  },
  {
   "cell_type": "code",
   "execution_count": 42,
   "metadata": {},
   "outputs": [],
   "source": [
    "from sqlalchemy import create_engine\n"
   ]
  },
  {
   "cell_type": "code",
   "execution_count": 73,
   "metadata": {},
   "outputs": [
    {
     "name": "stdout",
     "output_type": "stream",
     "text": [
      "2024-04-15 20:31:19,034 INFO sqlalchemy.engine.Engine BEGIN (implicit)\n",
      "2024-04-15 20:31:19,037 INFO sqlalchemy.engine.Engine PRAGMA main.table_info(\"LemmatizedKeywords\")\n",
      "2024-04-15 20:31:19,038 INFO sqlalchemy.engine.Engine [raw sql] ()\n",
      "2024-04-15 20:31:19,042 INFO sqlalchemy.engine.Engine INSERT INTO \"LemmatizedKeywords\" (word, lemmatized_text, tag, language) VALUES (?, ?, ?, ?)\n",
      "2024-04-15 20:31:19,044 INFO sqlalchemy.engine.Engine [generated in 0.00161s] [('rouge', 'rouge', 'color', 'fr'), ('bleu', 'bleu', 'color', 'fr'), ('jaune', 'jaune', 'color', 'fr'), ('orange', 'oranger', 'color', 'fr'), ('vert', 'vert', 'color', 'fr'), ('violet', 'violet', 'color', 'fr'), ('rouge√¢tre', 'rouge√¢tr', 'color', 'fr'), ('vert olive', 'vert olive', 'color', 'fr')  ... displaying 10 of 12 total bound parameter sets ...  ('noir', 'noir', 'color', 'fr'), ('gris', 'gris', 'color', 'fr')]\n",
      "2024-04-15 20:31:19,063 INFO sqlalchemy.engine.Engine SELECT name FROM sqlite_master WHERE type='table' AND name NOT LIKE 'sqlite~_%' ESCAPE '~' ORDER BY name\n",
      "2024-04-15 20:31:19,064 INFO sqlalchemy.engine.Engine [raw sql] ()\n",
      "2024-04-15 20:31:19,065 INFO sqlalchemy.engine.Engine COMMIT\n"
     ]
    },
    {
     "data": {
      "text/plain": [
       "12"
      ]
     },
     "execution_count": 73,
     "metadata": {},
     "output_type": "execute_result"
    }
   ],
   "source": [
    "# Establecer una conexión con la base de datos SQLite (si no existe, la creará)\n",
    "engine = create_engine('sqlite:///data.sqlite', echo=True)\n",
    "\n",
    "# Guardar el DataFrame en la base de datos (reemplazando si ya existe)\n",
    "df.to_sql('LemmatizedKeywords', con=engine, if_exists='append', index=False)\n",
    "\n"
   ]
  },
  {
   "cell_type": "code",
   "execution_count": 65,
   "metadata": {},
   "outputs": [
    {
     "name": "stdout",
     "output_type": "stream",
     "text": [
      "2024-04-15 16:55:42,422 INFO sqlalchemy.engine.Engine BEGIN (implicit)\n",
      "2024-04-15 16:55:42,424 INFO sqlalchemy.engine.Engine SELECT * FROM LemmatizedKeywords\n",
      "2024-04-15 16:55:42,424 INFO sqlalchemy.engine.Engine [raw sql] ()\n",
      "2024-04-15 16:55:42,449 INFO sqlalchemy.engine.Engine ROLLBACK\n",
      "          word lemmatized_text    tag language\n",
      "0         rojo            rojo  color       es\n",
      "1         azul            azul  color       es\n",
      "2     amarillo        amarillo  color       es\n",
      "3      naranja        naranjar  color       es\n",
      "4        verde           verde  color       es\n",
      "5      violeta        violetar  color       es\n",
      "6   anaranjado      anaranjado  color       es\n",
      "7       morado           morar  color       es\n",
      "8   verde lima      verde lima  color       es\n",
      "9       blanco          blanco  color       es\n",
      "10       negro           negro  color       es\n",
      "11        gris            gris  color       es\n",
      "12         red             red  color       en\n",
      "13        blue            blue  color       en\n",
      "14      yellow          yellow  color       en\n",
      "15      orange          orange  color       en\n",
      "16       green           green  color       en\n",
      "17      violet          violet  color       en\n",
      "18   vermilion       vermilion  color       en\n",
      "19  chartreuse      chartreuse  color       en\n",
      "20     magenta         magenta  color       en\n",
      "21       white           white  color       en\n",
      "22       black           black  color       en\n",
      "23        gray            gray  color       en\n"
     ]
    }
   ],
   "source": [
    "# Consultar la tabla para verificar si se ha cargado correctamente\n",
    "consulta = pd.read_sql_query('SELECT * FROM LemmatizedKeywords', engine)\n",
    "print(consulta)"
   ]
  },
  {
   "cell_type": "code",
   "execution_count": 66,
   "metadata": {},
   "outputs": [],
   "source": [
    "consulta.to_csv(\"respaldo.csv\")"
   ]
  },
  {
   "cell_type": "code",
   "execution_count": 36,
   "metadata": {},
   "outputs": [
    {
     "name": "stdout",
     "output_type": "stream",
     "text": [
      "I I\n",
      "am be\n",
      "running run\n",
      "in in\n",
      "the the\n",
      "park park\n"
     ]
    }
   ],
   "source": [
    "\n",
    "# Process a text\n",
    "doc = nlp(\"I am running in the park\")\n",
    "\n",
    "# Access lemmatized form of each token in the document\n",
    "for token in doc:\n",
    "    print(token.text, token.lemma_)"
   ]
  },
  {
   "cell_type": "code",
   "execution_count": 6,
   "metadata": {},
   "outputs": [
    {
     "data": {
      "text/plain": [
       "[[('Rojo', 'COLOR'),\n",
       "  ('Azul', 'COLOR'),\n",
       "  ('Amarillo', 'COLOR'),\n",
       "  ('Naranja', 'COLOR'),\n",
       "  ('Verde', 'COLOR'),\n",
       "  ('Violeta', 'COLOR'),\n",
       "  ('Anaranjado', 'COLOR'),\n",
       "  ('Morado', 'COLOR'),\n",
       "  ('Verde lima', 'COLOR'),\n",
       "  ('Blanco', 'COLOR'),\n",
       "  ('Negro', 'COLOR'),\n",
       "  ('Gris', 'COLOR'),\n",
       "  ('Red', 'COLOR'),\n",
       "  ('Blue', 'COLOR'),\n",
       "  ('Yellow', 'COLOR'),\n",
       "  ('Orange', 'COLOR'),\n",
       "  ('Green', 'COLOR'),\n",
       "  ('Violet', 'COLOR'),\n",
       "  ('Vermilion', 'COLOR'),\n",
       "  ('Chartreuse', 'COLOR'),\n",
       "  ('Magenta', 'COLOR'),\n",
       "  ('White', 'COLOR'),\n",
       "  ('Black', 'COLOR'),\n",
       "  ('Gray', 'COLOR'),\n",
       "  ('Rouge', 'COLOR'),\n",
       "  ('Bleu', 'COLOR'),\n",
       "  ('Jaune', 'COLOR'),\n",
       "  ('Orange', 'COLOR'),\n",
       "  ('Vert', 'COLOR'),\n",
       "  ('Violet', 'COLOR'),\n",
       "  ('Rougeâtre', 'COLOR'),\n",
       "  ('Vert olive', 'COLOR'),\n",
       "  ('Jeanne citron', 'COLOR'),\n",
       "  ('Blanc', 'COLOR'),\n",
       "  ('Noir', 'COLOR'),\n",
       "  ('Gris', 'COLOR'),\n",
       "  ('Красный (Krasniy)', 'COLOR'),\n",
       "  ('Синий (Siniy)', 'COLOR'),\n",
       "  ('Желтый (Zheltiy)', 'COLOR'),\n",
       "  ('Оранжевый (Oranzhevyy)', 'COLOR'),\n",
       "  ('Зеленый (Zeleniy)', 'COLOR'),\n",
       "  ('Фиолетовый (Fioletovyy)', 'COLOR'),\n",
       "  ('Красно-оранжевый (Krasno-oranzhevyy)', 'COLOR'),\n",
       "  ('Сине-зеленый (Sine-zeleniy)', 'COLOR'),\n",
       "  ('Желто-зеленый (Zhelto-zeleniy)', 'COLOR'),\n",
       "  ('Белый (Beliy)', 'COLOR'),\n",
       "  ('Черный (Cherniy)', 'COLOR'),\n",
       "  ('Серый (Seryy)', 'COLOR'),\n",
       "  ('אדום (Adom)', 'COLOR'),\n",
       "  ('כחול (Kahol)', 'COLOR'),\n",
       "  ('צהוב (Tzahov)', 'COLOR'),\n",
       "  ('כתום (Katom)', 'COLOR'),\n",
       "  ('ירוק (Yarok)', 'COLOR'),\n",
       "  ('סגול (Sagol)', 'COLOR'),\n",
       "  ('תכלת (Tchelet)', 'COLOR'),\n",
       "  ('בורדו (Bordo)', 'COLOR'),\n",
       "  ('זית (Zayit)', 'COLOR'),\n",
       "  ('לבן (Lavan)', 'COLOR'),\n",
       "  ('שחור (Shachor)', 'COLOR'),\n",
       "  ('אפור (Afor)', 'COLOR')]]"
      ]
     },
     "execution_count": 6,
     "metadata": {},
     "output_type": "execute_result"
    }
   ],
   "source": [
    "train_data"
   ]
  },
  {
   "cell_type": "code",
   "execution_count": 13,
   "metadata": {},
   "outputs": [
    {
     "data": {
      "text/plain": [
       "{'title': 'es', 'price': 'de', 'url': 'Unknown', 'input': 'es'}"
      ]
     },
     "execution_count": 13,
     "metadata": {},
     "output_type": "execute_result"
    }
   ],
   "source": [
    "matcher.detect_language_columns('files/farmatodo.json')"
   ]
  },
  {
   "cell_type": "code",
   "execution_count": 7,
   "metadata": {},
   "outputs": [],
   "source": [
    "lemmatized_colors = set(lemmatized_colors)\n"
   ]
  },
  {
   "cell_type": "code",
   "execution_count": 8,
   "metadata": {},
   "outputs": [],
   "source": [
    "# Entrenar el etiquetador de unigramas\n",
    "train_data = [[(color, 'COLOR') for color in lemmatized_colors]]\n",
    "unigram_tagger = UnigramTagger(train_data)"
   ]
  },
  {
   "cell_type": "code",
   "execution_count": 14,
   "metadata": {},
   "outputs": [
    {
     "data": {
      "text/plain": [
       "<UnigramTagger: size=57>"
      ]
     },
     "execution_count": 14,
     "metadata": {},
     "output_type": "execute_result"
    }
   ],
   "source": [
    "unigram_tagger"
   ]
  },
  {
   "cell_type": "code",
   "execution_count": 9,
   "metadata": {},
   "outputs": [],
   "source": [
    "def es_color(palabra):\n",
    "    tagged_word = unigram_tagger.tag([palabra])\n",
    "    if tagged_word[0][1] == 'COLOR':\n",
    "        return True\n",
    "    else:\n",
    "        return False"
   ]
  },
  {
   "cell_type": "code",
   "execution_count": 11,
   "metadata": {},
   "outputs": [
    {
     "data": {
      "text/plain": [
       "False"
      ]
     },
     "execution_count": 11,
     "metadata": {},
     "output_type": "execute_result"
    }
   ],
   "source": [
    "es_color('rojizo')"
   ]
  },
  {
   "cell_type": "code",
   "execution_count": 22,
   "metadata": {},
   "outputs": [
    {
     "name": "stdout",
     "output_type": "stream",
     "text": [
      "['Rojo', 'Azul']\n"
     ]
    }
   ],
   "source": [
    "# Función para verificar si una lista de palabras contiene colores\n",
    "def contiene_colores(lista_palabras):\n",
    "    return [palabra for palabra in lista_palabras if es_color(palabra)]\n",
    "\n",
    "# Ejemplo de uso\n",
    "lista_palabras = ['Rojo', 'Perro', 'Azul', 'Gato']\n",
    "print(contiene_colores(lista_palabras)) # Output: ['Rojo', 'Azul']"
   ]
  },
  {
   "cell_type": "code",
   "execution_count": null,
   "metadata": {},
   "outputs": [],
   "source": [
    "# Convertir las etiquetas de categoría a números\n",
    "y = y.map({cat: i for i, cat in enumerate(categorias)})"
   ]
  },
  {
   "cell_type": "code",
   "execution_count": 3,
   "metadata": {},
   "outputs": [],
   "source": [
    "df = matcher.get_df('files/origin_Madison.csv')"
   ]
  },
  {
   "cell_type": "code",
   "execution_count": 8,
   "metadata": {},
   "outputs": [
    {
     "name": "stderr",
     "output_type": "stream",
     "text": [
      "C:\\Users\\Caritoshi\\AppData\\Local\\Temp\\ipykernel_13456\\1888121351.py:1: FutureWarning: unique with argument that is not not a Series, Index, ExtensionArray, or np.ndarray is deprecated and will raise in a future version.\n",
      "  df.apply(pd.unique(df))\n"
     ]
    },
    {
     "ename": "ValueError",
     "evalue": "could not broadcast input array from shape (120,20) into shape (120,)",
     "output_type": "error",
     "traceback": [
      "\u001b[1;31m---------------------------------------------------------------------------\u001b[0m",
      "\u001b[1;31mValueError\u001b[0m                                Traceback (most recent call last)",
      "Cell \u001b[1;32mIn[8], line 1\u001b[0m\n\u001b[1;32m----> 1\u001b[0m df\u001b[38;5;241m.\u001b[39mapply(\u001b[43mpd\u001b[49m\u001b[38;5;241;43m.\u001b[39;49m\u001b[43munique\u001b[49m\u001b[43m(\u001b[49m\u001b[43mdf\u001b[49m\u001b[43m)\u001b[49m)\n",
      "File \u001b[1;32mc:\\Users\\Caritoshi\\Desktop\\projects\\matchX2\\.venv\\Lib\\site-packages\\pandas\\core\\algorithms.py:401\u001b[0m, in \u001b[0;36munique\u001b[1;34m(values)\u001b[0m\n\u001b[0;32m    307\u001b[0m \u001b[38;5;28;01mdef\u001b[39;00m \u001b[38;5;21munique\u001b[39m(values):\n\u001b[0;32m    308\u001b[0m \u001b[38;5;250m    \u001b[39m\u001b[38;5;124;03m\"\"\"\u001b[39;00m\n\u001b[0;32m    309\u001b[0m \u001b[38;5;124;03m    Return unique values based on a hash table.\u001b[39;00m\n\u001b[0;32m    310\u001b[0m \n\u001b[1;32m   (...)\u001b[0m\n\u001b[0;32m    399\u001b[0m \u001b[38;5;124;03m    array([('a', 'b'), ('b', 'a'), ('a', 'c')], dtype=object)\u001b[39;00m\n\u001b[0;32m    400\u001b[0m \u001b[38;5;124;03m    \"\"\"\u001b[39;00m\n\u001b[1;32m--> 401\u001b[0m     \u001b[38;5;28;01mreturn\u001b[39;00m \u001b[43munique_with_mask\u001b[49m\u001b[43m(\u001b[49m\u001b[43mvalues\u001b[49m\u001b[43m)\u001b[49m\n",
      "File \u001b[1;32mc:\\Users\\Caritoshi\\Desktop\\projects\\matchX2\\.venv\\Lib\\site-packages\\pandas\\core\\algorithms.py:429\u001b[0m, in \u001b[0;36munique_with_mask\u001b[1;34m(values, mask)\u001b[0m\n\u001b[0;32m    427\u001b[0m \u001b[38;5;28;01mdef\u001b[39;00m \u001b[38;5;21munique_with_mask\u001b[39m(values, mask: npt\u001b[38;5;241m.\u001b[39mNDArray[np\u001b[38;5;241m.\u001b[39mbool_] \u001b[38;5;241m|\u001b[39m \u001b[38;5;28;01mNone\u001b[39;00m \u001b[38;5;241m=\u001b[39m \u001b[38;5;28;01mNone\u001b[39;00m):\n\u001b[0;32m    428\u001b[0m \u001b[38;5;250m    \u001b[39m\u001b[38;5;124;03m\"\"\"See algorithms.unique for docs. Takes a mask for masked arrays.\"\"\"\u001b[39;00m\n\u001b[1;32m--> 429\u001b[0m     values \u001b[38;5;241m=\u001b[39m \u001b[43m_ensure_arraylike\u001b[49m\u001b[43m(\u001b[49m\u001b[43mvalues\u001b[49m\u001b[43m,\u001b[49m\u001b[43m \u001b[49m\u001b[43mfunc_name\u001b[49m\u001b[38;5;241;43m=\u001b[39;49m\u001b[38;5;124;43m\"\u001b[39;49m\u001b[38;5;124;43munique\u001b[39;49m\u001b[38;5;124;43m\"\u001b[39;49m\u001b[43m)\u001b[49m\n\u001b[0;32m    431\u001b[0m     \u001b[38;5;28;01mif\u001b[39;00m \u001b[38;5;28misinstance\u001b[39m(values\u001b[38;5;241m.\u001b[39mdtype, ExtensionDtype):\n\u001b[0;32m    432\u001b[0m         \u001b[38;5;66;03m# Dispatch to extension dtype's unique.\u001b[39;00m\n\u001b[0;32m    433\u001b[0m         \u001b[38;5;28;01mreturn\u001b[39;00m values\u001b[38;5;241m.\u001b[39munique()\n",
      "File \u001b[1;32mc:\\Users\\Caritoshi\\Desktop\\projects\\matchX2\\.venv\\Lib\\site-packages\\pandas\\core\\algorithms.py:238\u001b[0m, in \u001b[0;36m_ensure_arraylike\u001b[1;34m(values, func_name)\u001b[0m\n\u001b[0;32m    236\u001b[0m     \u001b[38;5;28;01mif\u001b[39;00m \u001b[38;5;28misinstance\u001b[39m(values, \u001b[38;5;28mtuple\u001b[39m):\n\u001b[0;32m    237\u001b[0m         values \u001b[38;5;241m=\u001b[39m \u001b[38;5;28mlist\u001b[39m(values)\n\u001b[1;32m--> 238\u001b[0m     values \u001b[38;5;241m=\u001b[39m \u001b[43mconstruct_1d_object_array_from_listlike\u001b[49m\u001b[43m(\u001b[49m\u001b[43mvalues\u001b[49m\u001b[43m)\u001b[49m\n\u001b[0;32m    239\u001b[0m \u001b[38;5;28;01melse\u001b[39;00m:\n\u001b[0;32m    240\u001b[0m     values \u001b[38;5;241m=\u001b[39m np\u001b[38;5;241m.\u001b[39masarray(values)\n",
      "File \u001b[1;32mc:\\Users\\Caritoshi\\Desktop\\projects\\matchX2\\.venv\\Lib\\site-packages\\pandas\\core\\dtypes\\cast.py:1598\u001b[0m, in \u001b[0;36mconstruct_1d_object_array_from_listlike\u001b[1;34m(values)\u001b[0m\n\u001b[0;32m   1595\u001b[0m \u001b[38;5;66;03m# numpy will try to interpret nested lists as further dimensions, hence\u001b[39;00m\n\u001b[0;32m   1596\u001b[0m \u001b[38;5;66;03m# making a 1D array that contains list-likes is a bit tricky:\u001b[39;00m\n\u001b[0;32m   1597\u001b[0m result \u001b[38;5;241m=\u001b[39m np\u001b[38;5;241m.\u001b[39mempty(\u001b[38;5;28mlen\u001b[39m(values), dtype\u001b[38;5;241m=\u001b[39m\u001b[38;5;124m\"\u001b[39m\u001b[38;5;124mobject\u001b[39m\u001b[38;5;124m\"\u001b[39m)\n\u001b[1;32m-> 1598\u001b[0m \u001b[43mresult\u001b[49m\u001b[43m[\u001b[49m\u001b[43m:\u001b[49m\u001b[43m]\u001b[49m \u001b[38;5;241m=\u001b[39m values\n\u001b[0;32m   1599\u001b[0m \u001b[38;5;28;01mreturn\u001b[39;00m result\n",
      "\u001b[1;31mValueError\u001b[0m: could not broadcast input array from shape (120,20) into shape (120,)"
     ]
    }
   ],
   "source": [
    "df.apply(pd.unique(df))"
   ]
  }
 ],
 "metadata": {
  "kernelspec": {
   "display_name": ".venv",
   "language": "python",
   "name": "python3"
  },
  "language_info": {
   "codemirror_mode": {
    "name": "ipython",
    "version": 3
   },
   "file_extension": ".py",
   "mimetype": "text/x-python",
   "name": "python",
   "nbconvert_exporter": "python",
   "pygments_lexer": "ipython3",
   "version": "3.11.4"
  },
  "orig_nbformat": 4
 },
 "nbformat": 4,
 "nbformat_minor": 2
}
