{
 "cells": [
  {
   "cell_type": "code",
   "execution_count": 7,
   "metadata": {},
   "outputs": [],
   "source": [
    "import pandas as pd\n",
    "# import numpy as np\n",
    "# import re\n",
    "\n",
    "import matcher  \n",
    "# import spacy\n"
   ]
  },
  {
   "cell_type": "code",
   "execution_count": 28,
   "metadata": {},
   "outputs": [],
   "source": [
    "# Cargar los datos del archivo CSV\n",
    "df = matcher.get_df('colores.csv')"
   ]
  },
  {
   "cell_type": "code",
   "execution_count": 4,
   "metadata": {},
   "outputs": [
    {
     "ename": "OSError",
     "evalue": "[E050] Can't find model 'fr_core_news_sm'. It doesn't seem to be a Python package or a valid path to a data directory.",
     "output_type": "error",
     "traceback": [
      "\u001b[1;31m---------------------------------------------------------------------------\u001b[0m",
      "\u001b[1;31mOSError\u001b[0m                                   Traceback (most recent call last)",
      "Cell \u001b[1;32mIn[4], line 2\u001b[0m\n\u001b[0;32m      1\u001b[0m \u001b[38;5;66;03m# nlp = spacy.load(\"en_core_web_sm\")\u001b[39;00m\n\u001b[1;32m----> 2\u001b[0m nlp \u001b[38;5;241m=\u001b[39m \u001b[43mspacy\u001b[49m\u001b[38;5;241;43m.\u001b[39;49m\u001b[43mload\u001b[49m\u001b[43m(\u001b[49m\u001b[38;5;124;43m\"\u001b[39;49m\u001b[38;5;124;43mfr_core_news_sm\u001b[39;49m\u001b[38;5;124;43m\"\u001b[39;49m\u001b[43m)\u001b[49m\n",
      "File \u001b[1;32mc:\\Users\\Caritoshi\\Desktop\\projects\\matchX2\\.venv\\Lib\\site-packages\\spacy\\__init__.py:51\u001b[0m, in \u001b[0;36mload\u001b[1;34m(name, vocab, disable, enable, exclude, config)\u001b[0m\n\u001b[0;32m     27\u001b[0m \u001b[38;5;28;01mdef\u001b[39;00m \u001b[38;5;21mload\u001b[39m(\n\u001b[0;32m     28\u001b[0m     name: Union[\u001b[38;5;28mstr\u001b[39m, Path],\n\u001b[0;32m     29\u001b[0m     \u001b[38;5;241m*\u001b[39m,\n\u001b[1;32m   (...)\u001b[0m\n\u001b[0;32m     34\u001b[0m     config: Union[Dict[\u001b[38;5;28mstr\u001b[39m, Any], Config] \u001b[38;5;241m=\u001b[39m util\u001b[38;5;241m.\u001b[39mSimpleFrozenDict(),\n\u001b[0;32m     35\u001b[0m ) \u001b[38;5;241m-\u001b[39m\u001b[38;5;241m>\u001b[39m Language:\n\u001b[0;32m     36\u001b[0m \u001b[38;5;250m    \u001b[39m\u001b[38;5;124;03m\"\"\"Load a spaCy model from an installed package or a local path.\u001b[39;00m\n\u001b[0;32m     37\u001b[0m \n\u001b[0;32m     38\u001b[0m \u001b[38;5;124;03m    name (str): Package name or model path.\u001b[39;00m\n\u001b[1;32m   (...)\u001b[0m\n\u001b[0;32m     49\u001b[0m \u001b[38;5;124;03m    RETURNS (Language): The loaded nlp object.\u001b[39;00m\n\u001b[0;32m     50\u001b[0m \u001b[38;5;124;03m    \"\"\"\u001b[39;00m\n\u001b[1;32m---> 51\u001b[0m     \u001b[38;5;28;01mreturn\u001b[39;00m \u001b[43mutil\u001b[49m\u001b[38;5;241;43m.\u001b[39;49m\u001b[43mload_model\u001b[49m\u001b[43m(\u001b[49m\n\u001b[0;32m     52\u001b[0m \u001b[43m        \u001b[49m\u001b[43mname\u001b[49m\u001b[43m,\u001b[49m\n\u001b[0;32m     53\u001b[0m \u001b[43m        \u001b[49m\u001b[43mvocab\u001b[49m\u001b[38;5;241;43m=\u001b[39;49m\u001b[43mvocab\u001b[49m\u001b[43m,\u001b[49m\n\u001b[0;32m     54\u001b[0m \u001b[43m        \u001b[49m\u001b[43mdisable\u001b[49m\u001b[38;5;241;43m=\u001b[39;49m\u001b[43mdisable\u001b[49m\u001b[43m,\u001b[49m\n\u001b[0;32m     55\u001b[0m \u001b[43m        \u001b[49m\u001b[43menable\u001b[49m\u001b[38;5;241;43m=\u001b[39;49m\u001b[43menable\u001b[49m\u001b[43m,\u001b[49m\n\u001b[0;32m     56\u001b[0m \u001b[43m        \u001b[49m\u001b[43mexclude\u001b[49m\u001b[38;5;241;43m=\u001b[39;49m\u001b[43mexclude\u001b[49m\u001b[43m,\u001b[49m\n\u001b[0;32m     57\u001b[0m \u001b[43m        \u001b[49m\u001b[43mconfig\u001b[49m\u001b[38;5;241;43m=\u001b[39;49m\u001b[43mconfig\u001b[49m\u001b[43m,\u001b[49m\n\u001b[0;32m     58\u001b[0m \u001b[43m    \u001b[49m\u001b[43m)\u001b[49m\n",
      "File \u001b[1;32mc:\\Users\\Caritoshi\\Desktop\\projects\\matchX2\\.venv\\Lib\\site-packages\\spacy\\util.py:472\u001b[0m, in \u001b[0;36mload_model\u001b[1;34m(name, vocab, disable, enable, exclude, config)\u001b[0m\n\u001b[0;32m    470\u001b[0m \u001b[38;5;28;01mif\u001b[39;00m name \u001b[38;5;129;01min\u001b[39;00m OLD_MODEL_SHORTCUTS:\n\u001b[0;32m    471\u001b[0m     \u001b[38;5;28;01mraise\u001b[39;00m \u001b[38;5;167;01mIOError\u001b[39;00m(Errors\u001b[38;5;241m.\u001b[39mE941\u001b[38;5;241m.\u001b[39mformat(name\u001b[38;5;241m=\u001b[39mname, full\u001b[38;5;241m=\u001b[39mOLD_MODEL_SHORTCUTS[name]))  \u001b[38;5;66;03m# type: ignore[index]\u001b[39;00m\n\u001b[1;32m--> 472\u001b[0m \u001b[38;5;28;01mraise\u001b[39;00m \u001b[38;5;167;01mIOError\u001b[39;00m(Errors\u001b[38;5;241m.\u001b[39mE050\u001b[38;5;241m.\u001b[39mformat(name\u001b[38;5;241m=\u001b[39mname))\n",
      "\u001b[1;31mOSError\u001b[0m: [E050] Can't find model 'fr_core_news_sm'. It doesn't seem to be a Python package or a valid path to a data directory."
     ]
    }
   ],
   "source": [
    "# nlp = spacy.load(\"en_core_web_sm\")\n",
    "nlp = spacy.load(\"fr_core_news_sm\")"
   ]
  },
  {
   "cell_type": "code",
   "execution_count": 47,
   "metadata": {},
   "outputs": [],
   "source": [
    "nlp = spacy.load(\"es_core_news_sm\")"
   ]
  },
  {
   "cell_type": "code",
   "execution_count": null,
   "metadata": {},
   "outputs": [],
   "source": [
    "\n",
    "\n",
    "# Crear un DataFrame de ejemplo\n",
    "data = {\n",
    "    \"texto\": [\"Esto es una prueba de lematización.\", \"Los gatos están durmiendo.\"],\n",
    "}\n",
    "df = pd.DataFrame(data)\n",
    "\n",
    "# Definir una función para lematizar el texto en la columna\n",
    "\n",
    "\n",
    "# Aplicar la función a la columna de texto\n",
    "df[\"lemmatized_text\"] = df[\"texto\"].apply(lemmatize_text)\n",
    "\n",
    "# Mostrar el DataFrame resultante\n",
    "print(df)"
   ]
  },
  {
   "cell_type": "code",
   "execution_count": 15,
   "metadata": {},
   "outputs": [],
   "source": [
    "def lemmatize_text(text):\n",
    "    doc = nlp(text)\n",
    "    lemmatized_text = \" \".join([token.lemma_ for token in doc])\n",
    "    return lemmatized_text"
   ]
  },
  {
   "cell_type": "code",
   "execution_count": null,
   "metadata": {},
   "outputs": [],
   "source": [
    "lemmatized_text = \" \".join([token.lemma_ for token in df])"
   ]
  },
  {
   "cell_type": "code",
   "execution_count": null,
   "metadata": {},
   "outputs": [],
   "source": [
    "doc = nlp(\"naranja\")\n",
    "for token in doc:\n",
    "    print(token.text, token.lemma_)"
   ]
  },
  {
   "cell_type": "code",
   "execution_count": 71,
   "metadata": {},
   "outputs": [],
   "source": [
    "df[\"word\"] = df[\"word\"].map(lambda x: x.lower())\n",
    "df[\"lemmatized_text\"] = df[\"word\"].apply(lemmatize_text)\n",
    "df[\"tag\"] = \"color\"\n",
    "df[\"language\"] = \"fr\""
   ]
  },
  {
   "cell_type": "code",
   "execution_count": 15,
   "metadata": {},
   "outputs": [
    {
     "data": {
      "text/plain": [
       "{'word': 'fr', 'colores': 'sl', 'color': 'en'}"
      ]
     },
     "execution_count": 15,
     "metadata": {},
     "output_type": "execute_result"
    }
   ],
   "source": [
    "matcher.detect_language_columns(\"colores.csv\")"
   ]
  },
  {
   "cell_type": "code",
   "execution_count": 29,
   "metadata": {},
   "outputs": [],
   "source": [
    "unique_values_by_column = df.apply(lambda col: col.astype(str).unique())\n",
    "    \n",
    "\n"
   ]
  },
  {
   "cell_type": "code",
   "execution_count": 17,
   "metadata": {},
   "outputs": [
    {
     "data": {
      "text/html": [
       "<div>\n",
       "<style scoped>\n",
       "    .dataframe tbody tr th:only-of-type {\n",
       "        vertical-align: middle;\n",
       "    }\n",
       "\n",
       "    .dataframe tbody tr th {\n",
       "        vertical-align: top;\n",
       "    }\n",
       "\n",
       "    .dataframe thead th {\n",
       "        text-align: right;\n",
       "    }\n",
       "</style>\n",
       "<table border=\"1\" class=\"dataframe\">\n",
       "  <thead>\n",
       "    <tr style=\"text-align: right;\">\n",
       "      <th></th>\n",
       "      <th>word</th>\n",
       "    </tr>\n",
       "  </thead>\n",
       "  <tbody>\n",
       "    <tr>\n",
       "      <th>0</th>\n",
       "      <td>Rouge</td>\n",
       "    </tr>\n",
       "    <tr>\n",
       "      <th>1</th>\n",
       "      <td>Bleu</td>\n",
       "    </tr>\n",
       "    <tr>\n",
       "      <th>2</th>\n",
       "      <td>Jaune</td>\n",
       "    </tr>\n",
       "    <tr>\n",
       "      <th>3</th>\n",
       "      <td>Orange</td>\n",
       "    </tr>\n",
       "    <tr>\n",
       "      <th>4</th>\n",
       "      <td>Vert</td>\n",
       "    </tr>\n",
       "    <tr>\n",
       "      <th>5</th>\n",
       "      <td>Violet</td>\n",
       "    </tr>\n",
       "    <tr>\n",
       "      <th>6</th>\n",
       "      <td>Rouge√¢tre</td>\n",
       "    </tr>\n",
       "    <tr>\n",
       "      <th>7</th>\n",
       "      <td>Vert olive</td>\n",
       "    </tr>\n",
       "    <tr>\n",
       "      <th>8</th>\n",
       "      <td>Jeanne citron</td>\n",
       "    </tr>\n",
       "    <tr>\n",
       "      <th>9</th>\n",
       "      <td>Blanc</td>\n",
       "    </tr>\n",
       "    <tr>\n",
       "      <th>10</th>\n",
       "      <td>Noir</td>\n",
       "    </tr>\n",
       "    <tr>\n",
       "      <th>11</th>\n",
       "      <td>Gris</td>\n",
       "    </tr>\n",
       "  </tbody>\n",
       "</table>\n",
       "</div>"
      ],
      "text/plain": [
       "             word\n",
       "0           Rouge\n",
       "1            Bleu\n",
       "2           Jaune\n",
       "3          Orange\n",
       "4            Vert\n",
       "5          Violet\n",
       "6      Rouge√¢tre\n",
       "7      Vert olive\n",
       "8   Jeanne citron\n",
       "9           Blanc\n",
       "10           Noir\n",
       "11           Gris"
      ]
     },
     "execution_count": 17,
     "metadata": {},
     "output_type": "execute_result"
    }
   ],
   "source": [
    "unique_values_by_column"
   ]
  },
  {
   "cell_type": "code",
   "execution_count": 41,
   "metadata": {},
   "outputs": [
    {
     "name": "stdout",
     "output_type": "stream",
     "text": [
      "rojo azul amarillo naranja verde violeta anaranjado morado verde lima blanco negro gris\n"
     ]
    },
    {
     "data": {
      "text/plain": [
       "{'word': {0: sl:0.8571397538249586, 1: es:0.14285888962281093}}"
      ]
     },
     "execution_count": 41,
     "metadata": {},
     "output_type": "execute_result"
    }
   ],
   "source": [
    "def detect_language_list(texts):\n",
    "    full_text = ' '.join(texts)\n",
    "    print(full_text)\n",
    "    try:\n",
    "        language = detect_langs(full_text)\n",
    "        return language\n",
    "    except LangDetectException:\n",
    "        return 'Unknown'\n",
    "\n",
    "# Convert DataFrame to dictionary\n",
    "language_dict = unique_values_by_column.apply(detect_language_list).to_dict()\n",
    "\n",
    "language_dict"
   ]
  },
  {
   "cell_type": "code",
   "execution_count": 37,
   "metadata": {},
   "outputs": [
    {
     "data": {
      "text/plain": [
       "'es'"
      ]
     },
     "execution_count": 37,
     "metadata": {},
     "output_type": "execute_result"
    }
   ],
   "source": [
    "detect(\"Hioscina Butilbromuro 10mg Blister 10tabletas\")"
   ]
  },
  {
   "cell_type": "code",
   "execution_count": 20,
   "metadata": {},
   "outputs": [
    {
     "data": {
      "text/html": [
       "<div>\n",
       "<style scoped>\n",
       "    .dataframe tbody tr th:only-of-type {\n",
       "        vertical-align: middle;\n",
       "    }\n",
       "\n",
       "    .dataframe tbody tr th {\n",
       "        vertical-align: top;\n",
       "    }\n",
       "\n",
       "    .dataframe thead th {\n",
       "        text-align: right;\n",
       "    }\n",
       "</style>\n",
       "<table border=\"1\" class=\"dataframe\">\n",
       "  <thead>\n",
       "    <tr style=\"text-align: right;\">\n",
       "      <th></th>\n",
       "      <th>word</th>\n",
       "    </tr>\n",
       "  </thead>\n",
       "  <tbody>\n",
       "    <tr>\n",
       "      <th>0</th>\n",
       "      <td>Rouge</td>\n",
       "    </tr>\n",
       "    <tr>\n",
       "      <th>1</th>\n",
       "      <td>Bleu</td>\n",
       "    </tr>\n",
       "    <tr>\n",
       "      <th>2</th>\n",
       "      <td>Jaune</td>\n",
       "    </tr>\n",
       "    <tr>\n",
       "      <th>3</th>\n",
       "      <td>Orange</td>\n",
       "    </tr>\n",
       "    <tr>\n",
       "      <th>4</th>\n",
       "      <td>Vert</td>\n",
       "    </tr>\n",
       "    <tr>\n",
       "      <th>5</th>\n",
       "      <td>Violet</td>\n",
       "    </tr>\n",
       "    <tr>\n",
       "      <th>6</th>\n",
       "      <td>Rouge√¢tre</td>\n",
       "    </tr>\n",
       "    <tr>\n",
       "      <th>7</th>\n",
       "      <td>Vert olive</td>\n",
       "    </tr>\n",
       "    <tr>\n",
       "      <th>8</th>\n",
       "      <td>Jeanne citron</td>\n",
       "    </tr>\n",
       "    <tr>\n",
       "      <th>9</th>\n",
       "      <td>Blanc</td>\n",
       "    </tr>\n",
       "    <tr>\n",
       "      <th>10</th>\n",
       "      <td>Noir</td>\n",
       "    </tr>\n",
       "    <tr>\n",
       "      <th>11</th>\n",
       "      <td>Gris</td>\n",
       "    </tr>\n",
       "  </tbody>\n",
       "</table>\n",
       "</div>"
      ],
      "text/plain": [
       "             word\n",
       "0           Rouge\n",
       "1            Bleu\n",
       "2           Jaune\n",
       "3          Orange\n",
       "4            Vert\n",
       "5          Violet\n",
       "6      Rouge√¢tre\n",
       "7      Vert olive\n",
       "8   Jeanne citron\n",
       "9           Blanc\n",
       "10           Noir\n",
       "11           Gris"
      ]
     },
     "execution_count": 20,
     "metadata": {},
     "output_type": "execute_result"
    }
   ],
   "source": []
  },
  {
   "cell_type": "code",
   "execution_count": 72,
   "metadata": {},
   "outputs": [
    {
     "data": {
      "text/html": [
       "<div>\n",
       "<style scoped>\n",
       "    .dataframe tbody tr th:only-of-type {\n",
       "        vertical-align: middle;\n",
       "    }\n",
       "\n",
       "    .dataframe tbody tr th {\n",
       "        vertical-align: top;\n",
       "    }\n",
       "\n",
       "    .dataframe thead th {\n",
       "        text-align: right;\n",
       "    }\n",
       "</style>\n",
       "<table border=\"1\" class=\"dataframe\">\n",
       "  <thead>\n",
       "    <tr style=\"text-align: right;\">\n",
       "      <th></th>\n",
       "      <th>word</th>\n",
       "      <th>lemmatized_text</th>\n",
       "      <th>tag</th>\n",
       "      <th>language</th>\n",
       "    </tr>\n",
       "  </thead>\n",
       "  <tbody>\n",
       "    <tr>\n",
       "      <th>0</th>\n",
       "      <td>rouge</td>\n",
       "      <td>rouge</td>\n",
       "      <td>color</td>\n",
       "      <td>fr</td>\n",
       "    </tr>\n",
       "    <tr>\n",
       "      <th>1</th>\n",
       "      <td>bleu</td>\n",
       "      <td>bleu</td>\n",
       "      <td>color</td>\n",
       "      <td>fr</td>\n",
       "    </tr>\n",
       "    <tr>\n",
       "      <th>2</th>\n",
       "      <td>jaune</td>\n",
       "      <td>jaune</td>\n",
       "      <td>color</td>\n",
       "      <td>fr</td>\n",
       "    </tr>\n",
       "    <tr>\n",
       "      <th>3</th>\n",
       "      <td>orange</td>\n",
       "      <td>oranger</td>\n",
       "      <td>color</td>\n",
       "      <td>fr</td>\n",
       "    </tr>\n",
       "    <tr>\n",
       "      <th>4</th>\n",
       "      <td>vert</td>\n",
       "      <td>vert</td>\n",
       "      <td>color</td>\n",
       "      <td>fr</td>\n",
       "    </tr>\n",
       "    <tr>\n",
       "      <th>5</th>\n",
       "      <td>violet</td>\n",
       "      <td>violet</td>\n",
       "      <td>color</td>\n",
       "      <td>fr</td>\n",
       "    </tr>\n",
       "    <tr>\n",
       "      <th>6</th>\n",
       "      <td>rouge√¢tre</td>\n",
       "      <td>rouge√¢tr</td>\n",
       "      <td>color</td>\n",
       "      <td>fr</td>\n",
       "    </tr>\n",
       "    <tr>\n",
       "      <th>7</th>\n",
       "      <td>vert olive</td>\n",
       "      <td>vert olive</td>\n",
       "      <td>color</td>\n",
       "      <td>fr</td>\n",
       "    </tr>\n",
       "    <tr>\n",
       "      <th>8</th>\n",
       "      <td>jeanne citron</td>\n",
       "      <td>jeanne citron</td>\n",
       "      <td>color</td>\n",
       "      <td>fr</td>\n",
       "    </tr>\n",
       "    <tr>\n",
       "      <th>9</th>\n",
       "      <td>blanc</td>\n",
       "      <td>blanc</td>\n",
       "      <td>color</td>\n",
       "      <td>fr</td>\n",
       "    </tr>\n",
       "    <tr>\n",
       "      <th>10</th>\n",
       "      <td>noir</td>\n",
       "      <td>noir</td>\n",
       "      <td>color</td>\n",
       "      <td>fr</td>\n",
       "    </tr>\n",
       "    <tr>\n",
       "      <th>11</th>\n",
       "      <td>gris</td>\n",
       "      <td>gris</td>\n",
       "      <td>color</td>\n",
       "      <td>fr</td>\n",
       "    </tr>\n",
       "  </tbody>\n",
       "</table>\n",
       "</div>"
      ],
      "text/plain": [
       "             word lemmatized_text    tag language\n",
       "0           rouge           rouge  color       fr\n",
       "1            bleu            bleu  color       fr\n",
       "2           jaune           jaune  color       fr\n",
       "3          orange         oranger  color       fr\n",
       "4            vert            vert  color       fr\n",
       "5          violet          violet  color       fr\n",
       "6      rouge√¢tre       rouge√¢tr  color       fr\n",
       "7      vert olive      vert olive  color       fr\n",
       "8   jeanne citron   jeanne citron  color       fr\n",
       "9           blanc           blanc  color       fr\n",
       "10           noir            noir  color       fr\n",
       "11           gris            gris  color       fr"
      ]
     },
     "execution_count": 72,
     "metadata": {},
     "output_type": "execute_result"
    }
   ],
   "source": [
    "df"
   ]
  },
  {
   "cell_type": "code",
   "execution_count": 42,
   "metadata": {},
   "outputs": [],
   "source": [
    "from sqlalchemy import create_engine\n"
   ]
  },
  {
   "cell_type": "code",
   "execution_count": 73,
   "metadata": {},
   "outputs": [
    {
     "name": "stdout",
     "output_type": "stream",
     "text": [
      "2024-04-15 20:31:19,034 INFO sqlalchemy.engine.Engine BEGIN (implicit)\n",
      "2024-04-15 20:31:19,037 INFO sqlalchemy.engine.Engine PRAGMA main.table_info(\"LemmatizedKeywords\")\n",
      "2024-04-15 20:31:19,038 INFO sqlalchemy.engine.Engine [raw sql] ()\n",
      "2024-04-15 20:31:19,042 INFO sqlalchemy.engine.Engine INSERT INTO \"LemmatizedKeywords\" (word, lemmatized_text, tag, language) VALUES (?, ?, ?, ?)\n",
      "2024-04-15 20:31:19,044 INFO sqlalchemy.engine.Engine [generated in 0.00161s] [('rouge', 'rouge', 'color', 'fr'), ('bleu', 'bleu', 'color', 'fr'), ('jaune', 'jaune', 'color', 'fr'), ('orange', 'oranger', 'color', 'fr'), ('vert', 'vert', 'color', 'fr'), ('violet', 'violet', 'color', 'fr'), ('rouge√¢tre', 'rouge√¢tr', 'color', 'fr'), ('vert olive', 'vert olive', 'color', 'fr')  ... displaying 10 of 12 total bound parameter sets ...  ('noir', 'noir', 'color', 'fr'), ('gris', 'gris', 'color', 'fr')]\n",
      "2024-04-15 20:31:19,063 INFO sqlalchemy.engine.Engine SELECT name FROM sqlite_master WHERE type='table' AND name NOT LIKE 'sqlite~_%' ESCAPE '~' ORDER BY name\n",
      "2024-04-15 20:31:19,064 INFO sqlalchemy.engine.Engine [raw sql] ()\n",
      "2024-04-15 20:31:19,065 INFO sqlalchemy.engine.Engine COMMIT\n"
     ]
    },
    {
     "data": {
      "text/plain": [
       "12"
      ]
     },
     "execution_count": 73,
     "metadata": {},
     "output_type": "execute_result"
    }
   ],
   "source": [
    "# Establecer una conexión con la base de datos SQLite (si no existe, la creará)\n",
    "engine = create_engine('sqlite:///data.sqlite', echo=True)\n",
    "\n",
    "# Guardar el DataFrame en la base de datos (reemplazando si ya existe)\n",
    "df.to_sql('LemmatizedKeywords', con=engine, if_exists='append', index=False)\n",
    "\n"
   ]
  },
  {
   "cell_type": "code",
   "execution_count": 65,
   "metadata": {},
   "outputs": [
    {
     "name": "stdout",
     "output_type": "stream",
     "text": [
      "2024-04-15 16:55:42,422 INFO sqlalchemy.engine.Engine BEGIN (implicit)\n",
      "2024-04-15 16:55:42,424 INFO sqlalchemy.engine.Engine SELECT * FROM LemmatizedKeywords\n",
      "2024-04-15 16:55:42,424 INFO sqlalchemy.engine.Engine [raw sql] ()\n",
      "2024-04-15 16:55:42,449 INFO sqlalchemy.engine.Engine ROLLBACK\n",
      "          word lemmatized_text    tag language\n",
      "0         rojo            rojo  color       es\n",
      "1         azul            azul  color       es\n",
      "2     amarillo        amarillo  color       es\n",
      "3      naranja        naranjar  color       es\n",
      "4        verde           verde  color       es\n",
      "5      violeta        violetar  color       es\n",
      "6   anaranjado      anaranjado  color       es\n",
      "7       morado           morar  color       es\n",
      "8   verde lima      verde lima  color       es\n",
      "9       blanco          blanco  color       es\n",
      "10       negro           negro  color       es\n",
      "11        gris            gris  color       es\n",
      "12         red             red  color       en\n",
      "13        blue            blue  color       en\n",
      "14      yellow          yellow  color       en\n",
      "15      orange          orange  color       en\n",
      "16       green           green  color       en\n",
      "17      violet          violet  color       en\n",
      "18   vermilion       vermilion  color       en\n",
      "19  chartreuse      chartreuse  color       en\n",
      "20     magenta         magenta  color       en\n",
      "21       white           white  color       en\n",
      "22       black           black  color       en\n",
      "23        gray            gray  color       en\n"
     ]
    }
   ],
   "source": [
    "# Consultar la tabla para verificar si se ha cargado correctamente\n",
    "consulta = pd.read_sql_query('SELECT * FROM LemmatizedKeywords', engine)\n",
    "print(consulta)"
   ]
  },
  {
   "cell_type": "code",
   "execution_count": 66,
   "metadata": {},
   "outputs": [],
   "source": [
    "consulta.to_csv(\"respaldo.csv\")"
   ]
  },
  {
   "cell_type": "code",
   "execution_count": 36,
   "metadata": {},
   "outputs": [
    {
     "name": "stdout",
     "output_type": "stream",
     "text": [
      "I I\n",
      "am be\n",
      "running run\n",
      "in in\n",
      "the the\n",
      "park park\n"
     ]
    }
   ],
   "source": [
    "\n",
    "# Process a text\n",
    "doc = nlp(\"I am running in the park\")\n",
    "\n",
    "# Access lemmatized form of each token in the document\n",
    "for token in doc:\n",
    "    print(token.text, token.lemma_)"
   ]
  },
  {
   "cell_type": "code",
   "execution_count": 6,
   "metadata": {},
   "outputs": [
    {
     "data": {
      "text/plain": [
       "[[('Rojo', 'COLOR'),\n",
       "  ('Azul', 'COLOR'),\n",
       "  ('Amarillo', 'COLOR'),\n",
       "  ('Naranja', 'COLOR'),\n",
       "  ('Verde', 'COLOR'),\n",
       "  ('Violeta', 'COLOR'),\n",
       "  ('Anaranjado', 'COLOR'),\n",
       "  ('Morado', 'COLOR'),\n",
       "  ('Verde lima', 'COLOR'),\n",
       "  ('Blanco', 'COLOR'),\n",
       "  ('Negro', 'COLOR'),\n",
       "  ('Gris', 'COLOR'),\n",
       "  ('Red', 'COLOR'),\n",
       "  ('Blue', 'COLOR'),\n",
       "  ('Yellow', 'COLOR'),\n",
       "  ('Orange', 'COLOR'),\n",
       "  ('Green', 'COLOR'),\n",
       "  ('Violet', 'COLOR'),\n",
       "  ('Vermilion', 'COLOR'),\n",
       "  ('Chartreuse', 'COLOR'),\n",
       "  ('Magenta', 'COLOR'),\n",
       "  ('White', 'COLOR'),\n",
       "  ('Black', 'COLOR'),\n",
       "  ('Gray', 'COLOR'),\n",
       "  ('Rouge', 'COLOR'),\n",
       "  ('Bleu', 'COLOR'),\n",
       "  ('Jaune', 'COLOR'),\n",
       "  ('Orange', 'COLOR'),\n",
       "  ('Vert', 'COLOR'),\n",
       "  ('Violet', 'COLOR'),\n",
       "  ('Rougeâtre', 'COLOR'),\n",
       "  ('Vert olive', 'COLOR'),\n",
       "  ('Jeanne citron', 'COLOR'),\n",
       "  ('Blanc', 'COLOR'),\n",
       "  ('Noir', 'COLOR'),\n",
       "  ('Gris', 'COLOR'),\n",
       "  ('Красный (Krasniy)', 'COLOR'),\n",
       "  ('Синий (Siniy)', 'COLOR'),\n",
       "  ('Желтый (Zheltiy)', 'COLOR'),\n",
       "  ('Оранжевый (Oranzhevyy)', 'COLOR'),\n",
       "  ('Зеленый (Zeleniy)', 'COLOR'),\n",
       "  ('Фиолетовый (Fioletovyy)', 'COLOR'),\n",
       "  ('Красно-оранжевый (Krasno-oranzhevyy)', 'COLOR'),\n",
       "  ('Сине-зеленый (Sine-zeleniy)', 'COLOR'),\n",
       "  ('Желто-зеленый (Zhelto-zeleniy)', 'COLOR'),\n",
       "  ('Белый (Beliy)', 'COLOR'),\n",
       "  ('Черный (Cherniy)', 'COLOR'),\n",
       "  ('Серый (Seryy)', 'COLOR'),\n",
       "  ('אדום (Adom)', 'COLOR'),\n",
       "  ('כחול (Kahol)', 'COLOR'),\n",
       "  ('צהוב (Tzahov)', 'COLOR'),\n",
       "  ('כתום (Katom)', 'COLOR'),\n",
       "  ('ירוק (Yarok)', 'COLOR'),\n",
       "  ('סגול (Sagol)', 'COLOR'),\n",
       "  ('תכלת (Tchelet)', 'COLOR'),\n",
       "  ('בורדו (Bordo)', 'COLOR'),\n",
       "  ('זית (Zayit)', 'COLOR'),\n",
       "  ('לבן (Lavan)', 'COLOR'),\n",
       "  ('שחור (Shachor)', 'COLOR'),\n",
       "  ('אפור (Afor)', 'COLOR')]]"
      ]
     },
     "execution_count": 6,
     "metadata": {},
     "output_type": "execute_result"
    }
   ],
   "source": [
    "train_data"
   ]
  },
  {
   "cell_type": "code",
   "execution_count": 13,
   "metadata": {},
   "outputs": [
    {
     "data": {
      "text/plain": [
       "{'title': 'es', 'price': 'de', 'url': 'Unknown', 'input': 'es'}"
      ]
     },
     "execution_count": 13,
     "metadata": {},
     "output_type": "execute_result"
    }
   ],
   "source": [
    "matcher.detect_language_columns('files/farmatodo.json')"
   ]
  },
  {
   "cell_type": "code",
   "execution_count": 7,
   "metadata": {},
   "outputs": [],
   "source": [
    "lemmatized_colors = set(lemmatized_colors)\n"
   ]
  },
  {
   "cell_type": "code",
   "execution_count": 8,
   "metadata": {},
   "outputs": [],
   "source": [
    "# Entrenar el etiquetador de unigramas\n",
    "train_data = [[(color, 'COLOR') for color in lemmatized_colors]]\n",
    "unigram_tagger = UnigramTagger(train_data)"
   ]
  },
  {
   "cell_type": "code",
   "execution_count": 1,
   "metadata": {},
   "outputs": [
    {
     "name": "stdout",
     "output_type": "stream",
     "text": [
      "Products are a match\n"
     ]
    }
   ],
   "source": [
    "from sklearn.feature_extraction.text import TfidfVectorizer\n",
    "from sklearn.metrics.pairwise import cosine_similarity\n",
    "\n",
    "# Example product data from two links\n",
    "product_a = {'name': 'Product A', 'description': 'Description A', 'price': 'Price A'}\n",
    "product_b = {'name': 'Product B', 'description': 'Description B', 'price': 'Price B'}\n",
    "\n",
    "# Preprocess and vectorize the data\n",
    "vectorizer = TfidfVectorizer()\n",
    "tfidf_matrix = vectorizer.fit_transform([product_a['description'], product_b['description']])\n",
    "\n",
    "# Calculate similarity\n",
    "similarity_score = cosine_similarity(tfidf_matrix[0:1], tfidf_matrix[1:2])\n",
    "\n",
    "# Determine if products are a match based on a threshold\n",
    "threshold = 0.8  # This is an example threshold\n",
    "if similarity_score[0][0] > threshold:\n",
    "    print('Products are a match')\n",
    "else:\n",
    "    print('Products are not a match')"
   ]
  },
  {
   "cell_type": "code",
   "execution_count": 14,
   "metadata": {},
   "outputs": [
    {
     "data": {
      "text/plain": [
       "<UnigramTagger: size=57>"
      ]
     },
     "execution_count": 14,
     "metadata": {},
     "output_type": "execute_result"
    }
   ],
   "source": [
    "unigram_tagger"
   ]
  },
  {
   "cell_type": "code",
   "execution_count": 9,
   "metadata": {},
   "outputs": [],
   "source": [
    "def es_color(palabra):\n",
    "    tagged_word = unigram_tagger.tag([palabra])\n",
    "    if tagged_word[0][1] == 'COLOR':\n",
    "        return True\n",
    "    else:\n",
    "        return False"
   ]
  },
  {
   "cell_type": "code",
   "execution_count": 11,
   "metadata": {},
   "outputs": [
    {
     "data": {
      "text/plain": [
       "False"
      ]
     },
     "execution_count": 11,
     "metadata": {},
     "output_type": "execute_result"
    }
   ],
   "source": [
    "es_color('rojizo')"
   ]
  },
  {
   "cell_type": "code",
   "execution_count": 22,
   "metadata": {},
   "outputs": [
    {
     "name": "stdout",
     "output_type": "stream",
     "text": [
      "['Rojo', 'Azul']\n"
     ]
    }
   ],
   "source": [
    "# Función para verificar si una lista de palabras contiene colores\n",
    "def contiene_colores(lista_palabras):\n",
    "    return [palabra for palabra in lista_palabras if es_color(palabra)]\n",
    "\n",
    "# Ejemplo de uso\n",
    "lista_palabras = ['Rojo', 'Perro', 'Azul', 'Gato']\n",
    "print(contiene_colores(lista_palabras)) # Output: ['Rojo', 'Azul']"
   ]
  },
  {
   "cell_type": "code",
   "execution_count": null,
   "metadata": {},
   "outputs": [],
   "source": [
    "# Convertir las etiquetas de categoría a números\n",
    "y = y.map({cat: i for i, cat in enumerate(categorias)})"
   ]
  },
  {
   "cell_type": "code",
   "execution_count": 2,
   "metadata": {},
   "outputs": [],
   "source": [
    "# Use a pipeline as a high-level helper\n",
    "from transformers import pipeline\n",
    "\n",
    "pipe = pipeline(\"text-classification\", model=\"ImranzamanML/GEFS-language-detector\")"
   ]
  },
  {
   "cell_type": "code",
   "execution_count": 24,
   "metadata": {},
   "outputs": [
    {
     "name": "stdout",
     "output_type": "stream",
     "text": [
      "The detected language is es\n"
     ]
    }
   ],
   "source": [
    "text=[\"rojo azul amarillo naranja verde violeta anaranjado morado verde lima blanco negro gris\"]\n",
    "pipe = pipeline(\"text-classification\", model=\"ImranzamanML/GEFS-language-detector\")\n",
    "lang_detect=pipe(text, top_k=1)\n",
    "print(\"The detected language is\", lang_detect[0][0][\"label\"])"
   ]
  },
  {
   "cell_type": "code",
   "execution_count": 74,
   "metadata": {},
   "outputs": [],
   "source": [
    "df = matcher.get_df(\"files/farmatodo.json\")\n",
    "\n",
    "# Combine the text of all rows into a single text\n",
    "text_combined = ' '.join(df.apply(lambda row: ', '.join(row.astype(str).unique()), axis=1))\n"
   ]
  },
  {
   "cell_type": "code",
   "execution_count": 75,
   "metadata": {},
   "outputs": [
    {
     "data": {
      "text/plain": [
       "5141"
      ]
     },
     "execution_count": 75,
     "metadata": {},
     "output_type": "execute_result"
    }
   ],
   "source": [
    "len(text_combined)"
   ]
  },
  {
   "cell_type": "code",
   "execution_count": 105,
   "metadata": {},
   "outputs": [
    {
     "name": "stdout",
     "output_type": "stream",
     "text": [
      "Hioscina N-butibromuro 10mg Blister 10 Tabletas, Bs.117.05 , https://www.farmatodo.com.ve/producto/111961219-hioscina-n-butibromuro-10mg-blister-10-tabletas, {'Producto': 'Buscapina'} Hioscina N-butilbromuro Butropina Gotas 5mg/ml X 20 Ml, Bs.227.30 , https://www.farmatodo.com.ve/producto/111006385-hioscina-n-butilbromuro-butropina-gotas-5mgml-x-20-ml, {'Producto': 'Buscapina'} Hioscina N-butilbromuro Pasim 10mg/ml Solución Gotas 15ml Klinos, Bs.230.75 , https://www.farmatodo.com.ve/producto/111959149-hioscina-n-butilbromuro-pasim-10mgml-solucion-gotas-15ml-klinos, {'Producto': 'Buscapina'} Hioscina+metamizol Flemibar 6,67mg/333,4mg Solución 20ml, Bs.223.10 , https://www.farmatodo.com.ve/producto/113380388-hioscinametamizol-flemibar-667mg3334mg-solucion-20ml, {'Producto': 'Buscapina'} Ibuprofeno + Hioscina Analper Fem Plus, Bs.152.51 , https://www.farmatodo.com.ve/producto/111273438-ibuprofeno--hioscina-analper-fem-plus, {'Producto': 'Buscapina'} Acetaminofen + Hioscina Analper Plus 500/10 Mg X 10 Tabletas, Bs.198.80 , https://www.farmatodo.com.ve/producto/111098773-acetaminofen--hioscina-analper-plus-50010-mg-x-10-tabletas, {'Producto': 'Buscapina'} Butilbromuro Hioscina Aless\n"
     ]
    }
   ],
   "source": [
    "def dividir_texto(texto, longitud_maxima):\n",
    "    palabras = texto.split()  # Dividir el texto en palabras\n",
    "    palabras_seleccionadas = []\n",
    "\n",
    "    longitud_actual = 0\n",
    "    for palabra in palabras:\n",
    "        if longitud_actual + len(palabra) + sum(map(len, palabras_seleccionadas)) <= longitud_maxima:\n",
    "            palabras_seleccionadas.append(palabra)\n",
    "            longitud_actual += len(palabra)\n",
    "        else:\n",
    "            break\n",
    "\n",
    "    return ' '.join(palabras_seleccionadas)\n",
    "\n",
    "longitud_maxima = 2250\n",
    "\n",
    "texto_cortado = dividir_texto(text_combined, longitud_maxima)\n",
    "print(texto_cortado)\n"
   ]
  },
  {
   "cell_type": "code",
   "execution_count": 106,
   "metadata": {},
   "outputs": [
    {
     "data": {
      "text/plain": [
       "[{'label': 'es', 'score': 0.9999867677688599}]"
      ]
     },
     "execution_count": 106,
     "metadata": {},
     "output_type": "execute_result"
    }
   ],
   "source": [
    "pipe(texto_cortado)"
   ]
  },
  {
   "cell_type": "code",
   "execution_count": 2,
   "metadata": {},
   "outputs": [],
   "source": [
    "def toolkit_detect_language(file_path: str = None, typedetect: str = None):\n",
    "    from transformers import pipeline\n",
    "\n",
    "    pipe = pipeline(\"text-classification\", model=\"ImranzamanML/GEFS-language-detector\")\n",
    "\n",
    "    \n",
    "    def dividir_texto(texto, longitud_maxima):\n",
    "        palabras = texto.split()  # Dividir el texto en palabras\n",
    "        palabras_seleccionadas = []\n",
    "\n",
    "        longitud_actual = 0\n",
    "        for palabra in palabras:\n",
    "            if longitud_actual + len(palabra) + sum(map(len, palabras_seleccionadas)) <= longitud_maxima:\n",
    "                palabras_seleccionadas.append(palabra)\n",
    "                longitud_actual += len(palabra)\n",
    "            else:\n",
    "                break\n",
    "            \n",
    "        return ' '.join(palabras_seleccionadas)\n",
    "    \n",
    "    longitud_maxima = 2250\n",
    "    \n",
    "    df = matcher.get_df(\"files/farmatodo.json\")\n",
    "\n",
    "    text_combined = ' '.join(df.apply(lambda row: ', '.join(row.astype(str).unique()), axis=1))\n",
    "    texto_cortado = dividir_texto(text_combined, longitud_maxima)\n",
    "    \n",
    "    return pipe(texto_cortado)\n",
    "# unique_values_by_column = df.apply(lambda col: col.astype(str).unique())\n",
    "# # print(unique_values_by_column)\n",
    "\n",
    "# def detect_language_list(texts):\n",
    "#     full_text = ' '.join(texts)\n",
    "#     full_text = ' '.join(set(full_text.lower().split()))\n",
    "#     texto_cortado = dividir_texto(full_text, 600)\n",
    "\n",
    "\n",
    "#     language = pipe(texto_cortado, top_k=1)\n",
    "#     print(language)\n",
    "#     return language\n",
    "\n",
    "\n",
    "# # Convert DataFrame to dictionary\n",
    "# language_dict = unique_values_by_column.apply(detect_language_list).to_dict()\n",
    "casa = detect_language()"
   ]
  },
  {
   "cell_type": "code",
   "execution_count": 22,
   "metadata": {},
   "outputs": [],
   "source": [
    "import os"
   ]
  },
  {
   "cell_type": "code",
   "execution_count": 83,
   "metadata": {},
   "outputs": [],
   "source": [
    "def Matcherito(file_path_x: str = None, file_path_y: str = None, typematch: str = None, queries: list = [], language:dict = None, datatype: str = None, algorithmatch:str=None) -> pd.DataFrame:\n",
    "    \n",
    "    if type(file_path_x) != str or type(file_path_y) != str or type(typematch) != str or type(queries) != list or type(lang_detect) != dict:\n",
    "        raise TypeError(\"Data type error in one of the attributes\")\n",
    "    \n",
    "    extensions = ['csv', 'json']\n",
    "\n",
    "    if not any(file_path_x.endswith(extension) for extension in extensions) or not any(file_path_y.endswith(extension) for extension in extensions):\n",
    "        raise ValueError(\"The file does not have a valid extension.\")\n",
    "\n",
    "    if file_path_x is None:\n",
    "        raise ValueError(\"required field 'file_path_x'\")\n",
    "    elif file_path_y is None:\n",
    "        raise ValueError(\"required field 'file_path_y'\")\n",
    "    else:\n",
    "        if file_path_x == file_path_y:\n",
    "            raise ValueError(\"Cannot put the same file on both paths\")\n",
    "        if not os.path.exists(file_path_x) or not os.path.exists(file_path_y):\n",
    "            raise FileNotFoundError(\"required file does not exist in the path\")\n",
    "\n",
    "    if typematch is None:\n",
    "        raise ValueError(\"required field 'typematch'\")\n",
    "\n",
    "    if not typematch in ['prueba1']:#cambiar a variable de entorno con la lista de tipo de match\n",
    "        raise ValueError(\"match type not valid\")\n",
    "\n",
    "\n",
    "    pass "
   ]
  },
  {
   "cell_type": "code",
   "execution_count": 84,
   "metadata": {},
   "outputs": [
    {
     "ename": "TypeError",
     "evalue": "Data type error in one of the attributes",
     "output_type": "error",
     "traceback": [
      "\u001b[1;31m---------------------------------------------------------------------------\u001b[0m",
      "\u001b[1;31mTypeError\u001b[0m                                 Traceback (most recent call last)",
      "Cell \u001b[1;32mIn[84], line 1\u001b[0m\n\u001b[1;32m----> 1\u001b[0m \u001b[43mMatcherito\u001b[49m\u001b[43m(\u001b[49m\u001b[38;5;124;43m'\u001b[39;49m\u001b[38;5;124;43mcolores.csv\u001b[39;49m\u001b[38;5;124;43m'\u001b[39;49m\u001b[43m,\u001b[49m\u001b[38;5;124;43m'\u001b[39;49m\u001b[38;5;124;43mrespaldo.csv\u001b[39;49m\u001b[38;5;124;43m'\u001b[39;49m\u001b[43m,\u001b[49m\u001b[43m \u001b[49m\u001b[38;5;241;43m23\u001b[39;49m\u001b[43m)\u001b[49m\n",
      "Cell \u001b[1;32mIn[83], line 4\u001b[0m, in \u001b[0;36mMatcherito\u001b[1;34m(file_path_x, file_path_y, typematch, queries, language, datatype, algorithmatch)\u001b[0m\n\u001b[0;32m      1\u001b[0m \u001b[38;5;28;01mdef\u001b[39;00m \u001b[38;5;21mMatcherito\u001b[39m(file_path_x: \u001b[38;5;28mstr\u001b[39m \u001b[38;5;241m=\u001b[39m \u001b[38;5;28;01mNone\u001b[39;00m, file_path_y: \u001b[38;5;28mstr\u001b[39m \u001b[38;5;241m=\u001b[39m \u001b[38;5;28;01mNone\u001b[39;00m, typematch: \u001b[38;5;28mstr\u001b[39m \u001b[38;5;241m=\u001b[39m \u001b[38;5;28;01mNone\u001b[39;00m, queries: \u001b[38;5;28mlist\u001b[39m \u001b[38;5;241m=\u001b[39m [], language:\u001b[38;5;28mdict\u001b[39m \u001b[38;5;241m=\u001b[39m \u001b[38;5;28;01mNone\u001b[39;00m, datatype: \u001b[38;5;28mstr\u001b[39m \u001b[38;5;241m=\u001b[39m \u001b[38;5;28;01mNone\u001b[39;00m, algorithmatch:\u001b[38;5;28mstr\u001b[39m\u001b[38;5;241m=\u001b[39m\u001b[38;5;28;01mNone\u001b[39;00m) \u001b[38;5;241m-\u001b[39m\u001b[38;5;241m>\u001b[39m pd\u001b[38;5;241m.\u001b[39mDataFrame:\n\u001b[0;32m      3\u001b[0m     \u001b[38;5;28;01mif\u001b[39;00m \u001b[38;5;28mtype\u001b[39m(file_path_x) \u001b[38;5;241m!=\u001b[39m \u001b[38;5;28mstr\u001b[39m \u001b[38;5;129;01mor\u001b[39;00m \u001b[38;5;28mtype\u001b[39m(file_path_y) \u001b[38;5;241m!=\u001b[39m \u001b[38;5;28mstr\u001b[39m \u001b[38;5;129;01mor\u001b[39;00m \u001b[38;5;28mtype\u001b[39m(typematch) \u001b[38;5;241m!=\u001b[39m \u001b[38;5;28mstr\u001b[39m \u001b[38;5;129;01mor\u001b[39;00m \u001b[38;5;28mtype\u001b[39m(queries) \u001b[38;5;241m!=\u001b[39m \u001b[38;5;28mlist\u001b[39m \u001b[38;5;129;01mor\u001b[39;00m \u001b[38;5;28mtype\u001b[39m(lang_detect) \u001b[38;5;241m!=\u001b[39m \u001b[38;5;28mdict\u001b[39m:\n\u001b[1;32m----> 4\u001b[0m         \u001b[38;5;28;01mraise\u001b[39;00m \u001b[38;5;167;01mTypeError\u001b[39;00m(\u001b[38;5;124m\"\u001b[39m\u001b[38;5;124mData type error in one of the attributes\u001b[39m\u001b[38;5;124m\"\u001b[39m)\n\u001b[0;32m      6\u001b[0m     extensions \u001b[38;5;241m=\u001b[39m [\u001b[38;5;124m'\u001b[39m\u001b[38;5;124mcsv\u001b[39m\u001b[38;5;124m'\u001b[39m, \u001b[38;5;124m'\u001b[39m\u001b[38;5;124mjson\u001b[39m\u001b[38;5;124m'\u001b[39m]\n\u001b[0;32m      8\u001b[0m     \u001b[38;5;28;01mif\u001b[39;00m \u001b[38;5;129;01mnot\u001b[39;00m \u001b[38;5;28many\u001b[39m(file_path_x\u001b[38;5;241m.\u001b[39mendswith(extension) \u001b[38;5;28;01mfor\u001b[39;00m extension \u001b[38;5;129;01min\u001b[39;00m extensions) \u001b[38;5;129;01mor\u001b[39;00m \u001b[38;5;129;01mnot\u001b[39;00m \u001b[38;5;28many\u001b[39m(file_path_y\u001b[38;5;241m.\u001b[39mendswith(extension) \u001b[38;5;28;01mfor\u001b[39;00m extension \u001b[38;5;129;01min\u001b[39;00m extensions):\n",
      "\u001b[1;31mTypeError\u001b[0m: Data type error in one of the attributes"
     ]
    }
   ],
   "source": [
    "Matcherito('colores.csv','respaldo.csv', 23)"
   ]
  },
  {
   "cell_type": "code",
   "execution_count": 27,
   "metadata": {},
   "outputs": [
    {
     "data": {
      "text/plain": [
       "False"
      ]
     },
     "execution_count": 27,
     "metadata": {},
     "output_type": "execute_result"
    }
   ],
   "source": [
    "os.path.exists('coloress.csv')"
   ]
  },
  {
   "cell_type": "code",
   "execution_count": 2,
   "metadata": {},
   "outputs": [],
   "source": [
    "from transformers import pipeline\n",
    "pipe = pipeline(\"text-classification\", model=\"ImranzamanML/GEFS-language-detector\")\n",
    "def detect_language ():\n",
    "\n",
    "    def dividir_texto(texto, longitud_maxima):\n",
    "        palabras = texto.split()  # Dividir el texto en palabras\n",
    "        palabras_seleccionadas = []\n",
    "\n",
    "        longitud_actual = 0\n",
    "        for palabra in palabras:\n",
    "            if longitud_actual + len(palabra) + sum(map(len, palabras_seleccionadas)) <= longitud_maxima:\n",
    "                palabras_seleccionadas.append(palabra)\n",
    "                longitud_actual += len(palabra)\n",
    "            else:\n",
    "                break\n",
    "            \n",
    "        return ' '.join(palabras_seleccionadas)\n",
    "    \n",
    "    longitud_maxima = 2250\n",
    "    \n",
    "    df = matcher.get_df(\"files/farmatodo.json\")\n",
    "\n",
    "    text_combined = ' '.join(df.apply(lambda row: ', '.join(row.astype(str).unique()), axis=1))\n",
    "    texto_cortado = dividir_texto(text_combined, longitud_maxima)\n",
    "    return pipe(texto_cortado)"
   ]
  },
  {
   "cell_type": "code",
   "execution_count": 4,
   "metadata": {},
   "outputs": [
    {
     "data": {
      "text/plain": [
       "[{'label': 'es', 'score': 0.9999867677688599}]"
      ]
     },
     "execution_count": 4,
     "metadata": {},
     "output_type": "execute_result"
    }
   ],
   "source": [
    "detect_language()"
   ]
  }
 ],
 "metadata": {
  "kernelspec": {
   "display_name": ".venv",
   "language": "python",
   "name": "python3"
  },
  "language_info": {
   "codemirror_mode": {
    "name": "ipython",
    "version": 3
   },
   "file_extension": ".py",
   "mimetype": "text/x-python",
   "name": "python",
   "nbconvert_exporter": "python",
   "pygments_lexer": "ipython3",
   "version": "3.12.2"
  },
  "orig_nbformat": 4
 },
 "nbformat": 4,
 "nbformat_minor": 2
}
