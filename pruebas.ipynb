{
 "cells": [
  {
   "cell_type": "code",
   "execution_count": 17,
   "metadata": {},
   "outputs": [],
   "source": [
    "import pandas as pd\n",
    "import numpy as np\n",
    "import re\n",
    "import pandas as pd\n",
    "\n",
    "import matcher  \n",
    "import spacy\n"
   ]
  },
  {
   "cell_type": "code",
   "execution_count": 18,
   "metadata": {},
   "outputs": [],
   "source": [
    "# Cargar los datos del archivo CSV\n",
    "df = matcher.get_df('colores.csv')"
   ]
  },
  {
   "cell_type": "code",
   "execution_count": 21,
   "metadata": {},
   "outputs": [],
   "source": [
    "nlp = spacy.load(\"en_core_web_sm\")"
   ]
  },
  {
   "cell_type": "code",
   "execution_count": 39,
   "metadata": {},
   "outputs": [
    {
     "name": "stdout",
     "output_type": "stream",
     "text": [
      "                                 texto                        lemmatized_text\n",
      "0  Esto es una prueba de lematización.  este ser uno prueba de lematización .\n",
      "1           Los gatos están durmiendo.                 el gato estar dormir .\n"
     ]
    }
   ],
   "source": [
    "nlp = spacy.load(\"es_core_news_sm\")\n",
    "\n",
    "# Crear un DataFrame de ejemplo\n",
    "data = {\n",
    "    \"texto\": [\"Esto es una prueba de lematización.\", \"Los gatos están durmiendo.\"],\n",
    "}\n",
    "df = pd.DataFrame(data)\n",
    "\n",
    "# Definir una función para lematizar el texto en la columna\n",
    "def lemmatize_text(text):\n",
    "    doc = nlp(text)\n",
    "    lemmatized_text = \" \".join([token.lemma_ for token in doc])\n",
    "    return lemmatized_text\n",
    "\n",
    "# Aplicar la función a la columna de texto\n",
    "df[\"lemmatized_text\"] = df[\"texto\"].apply(lemmatize_text)\n",
    "\n",
    "# Mostrar el DataFrame resultante\n",
    "print(df)"
   ]
  },
  {
   "cell_type": "code",
   "execution_count": 32,
   "metadata": {},
   "outputs": [
    {
     "name": "stdout",
     "output_type": "stream",
     "text": [
      "Rojo\n"
     ]
    },
    {
     "ename": "AttributeError",
     "evalue": "'spacy.tokens.doc.Doc' object has no attribute 'lemma_'",
     "output_type": "error",
     "traceback": [
      "\u001b[1;31m---------------------------------------------------------------------------\u001b[0m",
      "\u001b[1;31mAttributeError\u001b[0m                            Traceback (most recent call last)",
      "Cell \u001b[1;32mIn[32], line 6\u001b[0m\n\u001b[0;32m      3\u001b[0m \u001b[39m# if token.is_punct or token.is_stop or token.is_space:\u001b[39;00m\n\u001b[0;32m      4\u001b[0m     \u001b[39m# continue\u001b[39;00m\n\u001b[0;32m      5\u001b[0m \u001b[39mprint\u001b[39m(token)\n\u001b[1;32m----> 6\u001b[0m \u001b[39mprint\u001b[39m(token\u001b[39m.\u001b[39;49mlemma_)\n",
      "\u001b[1;31mAttributeError\u001b[0m: 'spacy.tokens.doc.Doc' object has no attribute 'lemma_'"
     ]
    }
   ],
   "source": [
    "for token in df['color']:\n",
    "    token = nlp(token)\n",
    "    # if token.is_punct or token.is_stop or token.is_space:\n",
    "        # continue\n",
    "    print(token)\n",
    "    print(token.lemma_)"
   ]
  },
  {
   "cell_type": "code",
   "execution_count": 36,
   "metadata": {},
   "outputs": [
    {
     "name": "stdout",
     "output_type": "stream",
     "text": [
      "I I\n",
      "am be\n",
      "running run\n",
      "in in\n",
      "the the\n",
      "park park\n"
     ]
    }
   ],
   "source": [
    "\n",
    "# Process a text\n",
    "doc = nlp(\"I am running in the park\")\n",
    "\n",
    "# Access lemmatized form of each token in the document\n",
    "for token in doc:\n",
    "    print(token.text, token.lemma_)"
   ]
  },
  {
   "cell_type": "code",
   "execution_count": 6,
   "metadata": {},
   "outputs": [
    {
     "data": {
      "text/plain": [
       "[[('Rojo', 'COLOR'),\n",
       "  ('Azul', 'COLOR'),\n",
       "  ('Amarillo', 'COLOR'),\n",
       "  ('Naranja', 'COLOR'),\n",
       "  ('Verde', 'COLOR'),\n",
       "  ('Violeta', 'COLOR'),\n",
       "  ('Anaranjado', 'COLOR'),\n",
       "  ('Morado', 'COLOR'),\n",
       "  ('Verde lima', 'COLOR'),\n",
       "  ('Blanco', 'COLOR'),\n",
       "  ('Negro', 'COLOR'),\n",
       "  ('Gris', 'COLOR'),\n",
       "  ('Red', 'COLOR'),\n",
       "  ('Blue', 'COLOR'),\n",
       "  ('Yellow', 'COLOR'),\n",
       "  ('Orange', 'COLOR'),\n",
       "  ('Green', 'COLOR'),\n",
       "  ('Violet', 'COLOR'),\n",
       "  ('Vermilion', 'COLOR'),\n",
       "  ('Chartreuse', 'COLOR'),\n",
       "  ('Magenta', 'COLOR'),\n",
       "  ('White', 'COLOR'),\n",
       "  ('Black', 'COLOR'),\n",
       "  ('Gray', 'COLOR'),\n",
       "  ('Rouge', 'COLOR'),\n",
       "  ('Bleu', 'COLOR'),\n",
       "  ('Jaune', 'COLOR'),\n",
       "  ('Orange', 'COLOR'),\n",
       "  ('Vert', 'COLOR'),\n",
       "  ('Violet', 'COLOR'),\n",
       "  ('Rougeâtre', 'COLOR'),\n",
       "  ('Vert olive', 'COLOR'),\n",
       "  ('Jeanne citron', 'COLOR'),\n",
       "  ('Blanc', 'COLOR'),\n",
       "  ('Noir', 'COLOR'),\n",
       "  ('Gris', 'COLOR'),\n",
       "  ('Красный (Krasniy)', 'COLOR'),\n",
       "  ('Синий (Siniy)', 'COLOR'),\n",
       "  ('Желтый (Zheltiy)', 'COLOR'),\n",
       "  ('Оранжевый (Oranzhevyy)', 'COLOR'),\n",
       "  ('Зеленый (Zeleniy)', 'COLOR'),\n",
       "  ('Фиолетовый (Fioletovyy)', 'COLOR'),\n",
       "  ('Красно-оранжевый (Krasno-oranzhevyy)', 'COLOR'),\n",
       "  ('Сине-зеленый (Sine-zeleniy)', 'COLOR'),\n",
       "  ('Желто-зеленый (Zhelto-zeleniy)', 'COLOR'),\n",
       "  ('Белый (Beliy)', 'COLOR'),\n",
       "  ('Черный (Cherniy)', 'COLOR'),\n",
       "  ('Серый (Seryy)', 'COLOR'),\n",
       "  ('אדום (Adom)', 'COLOR'),\n",
       "  ('כחול (Kahol)', 'COLOR'),\n",
       "  ('צהוב (Tzahov)', 'COLOR'),\n",
       "  ('כתום (Katom)', 'COLOR'),\n",
       "  ('ירוק (Yarok)', 'COLOR'),\n",
       "  ('סגול (Sagol)', 'COLOR'),\n",
       "  ('תכלת (Tchelet)', 'COLOR'),\n",
       "  ('בורדו (Bordo)', 'COLOR'),\n",
       "  ('זית (Zayit)', 'COLOR'),\n",
       "  ('לבן (Lavan)', 'COLOR'),\n",
       "  ('שחור (Shachor)', 'COLOR'),\n",
       "  ('אפור (Afor)', 'COLOR')]]"
      ]
     },
     "execution_count": 6,
     "metadata": {},
     "output_type": "execute_result"
    }
   ],
   "source": [
    "train_data"
   ]
  },
  {
   "cell_type": "code",
   "execution_count": 13,
   "metadata": {},
   "outputs": [
    {
     "data": {
      "text/plain": [
       "{'title': 'es', 'price': 'de', 'url': 'Unknown', 'input': 'es'}"
      ]
     },
     "execution_count": 13,
     "metadata": {},
     "output_type": "execute_result"
    }
   ],
   "source": [
    "matcher.detect_language_columns('files/farmatodo.json')"
   ]
  },
  {
   "cell_type": "code",
   "execution_count": 7,
   "metadata": {},
   "outputs": [],
   "source": [
    "lemmatized_colors = set(lemmatized_colors)\n"
   ]
  },
  {
   "cell_type": "code",
   "execution_count": 8,
   "metadata": {},
   "outputs": [],
   "source": [
    "# Entrenar el etiquetador de unigramas\n",
    "train_data = [[(color, 'COLOR') for color in lemmatized_colors]]\n",
    "unigram_tagger = UnigramTagger(train_data)"
   ]
  },
  {
   "cell_type": "code",
   "execution_count": 14,
   "metadata": {},
   "outputs": [
    {
     "data": {
      "text/plain": [
       "<UnigramTagger: size=57>"
      ]
     },
     "execution_count": 14,
     "metadata": {},
     "output_type": "execute_result"
    }
   ],
   "source": [
    "unigram_tagger"
   ]
  },
  {
   "cell_type": "code",
   "execution_count": 9,
   "metadata": {},
   "outputs": [],
   "source": [
    "def es_color(palabra):\n",
    "    tagged_word = unigram_tagger.tag([palabra])\n",
    "    if tagged_word[0][1] == 'COLOR':\n",
    "        return True\n",
    "    else:\n",
    "        return False"
   ]
  },
  {
   "cell_type": "code",
   "execution_count": 11,
   "metadata": {},
   "outputs": [
    {
     "data": {
      "text/plain": [
       "False"
      ]
     },
     "execution_count": 11,
     "metadata": {},
     "output_type": "execute_result"
    }
   ],
   "source": [
    "es_color('rojizo')"
   ]
  },
  {
   "cell_type": "code",
   "execution_count": 22,
   "metadata": {},
   "outputs": [
    {
     "name": "stdout",
     "output_type": "stream",
     "text": [
      "['Rojo', 'Azul']\n"
     ]
    }
   ],
   "source": [
    "# Función para verificar si una lista de palabras contiene colores\n",
    "def contiene_colores(lista_palabras):\n",
    "    return [palabra for palabra in lista_palabras if es_color(palabra)]\n",
    "\n",
    "# Ejemplo de uso\n",
    "lista_palabras = ['Rojo', 'Perro', 'Azul', 'Gato']\n",
    "print(contiene_colores(lista_palabras)) # Output: ['Rojo', 'Azul']"
   ]
  },
  {
   "cell_type": "code",
   "execution_count": null,
   "metadata": {},
   "outputs": [],
   "source": [
    "# Convertir las etiquetas de categoría a números\n",
    "y = y.map({cat: i for i, cat in enumerate(categorias)})"
   ]
  },
  {
   "cell_type": "code",
   "execution_count": 3,
   "metadata": {},
   "outputs": [],
   "source": [
    "df = matcher.get_df('files/origin_Madison.csv')"
   ]
  },
  {
   "cell_type": "code",
   "execution_count": 8,
   "metadata": {},
   "outputs": [
    {
     "name": "stderr",
     "output_type": "stream",
     "text": [
      "C:\\Users\\Caritoshi\\AppData\\Local\\Temp\\ipykernel_13456\\1888121351.py:1: FutureWarning: unique with argument that is not not a Series, Index, ExtensionArray, or np.ndarray is deprecated and will raise in a future version.\n",
      "  df.apply(pd.unique(df))\n"
     ]
    },
    {
     "ename": "ValueError",
     "evalue": "could not broadcast input array from shape (120,20) into shape (120,)",
     "output_type": "error",
     "traceback": [
      "\u001b[1;31m---------------------------------------------------------------------------\u001b[0m",
      "\u001b[1;31mValueError\u001b[0m                                Traceback (most recent call last)",
      "Cell \u001b[1;32mIn[8], line 1\u001b[0m\n\u001b[1;32m----> 1\u001b[0m df\u001b[38;5;241m.\u001b[39mapply(\u001b[43mpd\u001b[49m\u001b[38;5;241;43m.\u001b[39;49m\u001b[43munique\u001b[49m\u001b[43m(\u001b[49m\u001b[43mdf\u001b[49m\u001b[43m)\u001b[49m)\n",
      "File \u001b[1;32mc:\\Users\\Caritoshi\\Desktop\\projects\\matchX2\\.venv\\Lib\\site-packages\\pandas\\core\\algorithms.py:401\u001b[0m, in \u001b[0;36munique\u001b[1;34m(values)\u001b[0m\n\u001b[0;32m    307\u001b[0m \u001b[38;5;28;01mdef\u001b[39;00m \u001b[38;5;21munique\u001b[39m(values):\n\u001b[0;32m    308\u001b[0m \u001b[38;5;250m    \u001b[39m\u001b[38;5;124;03m\"\"\"\u001b[39;00m\n\u001b[0;32m    309\u001b[0m \u001b[38;5;124;03m    Return unique values based on a hash table.\u001b[39;00m\n\u001b[0;32m    310\u001b[0m \n\u001b[1;32m   (...)\u001b[0m\n\u001b[0;32m    399\u001b[0m \u001b[38;5;124;03m    array([('a', 'b'), ('b', 'a'), ('a', 'c')], dtype=object)\u001b[39;00m\n\u001b[0;32m    400\u001b[0m \u001b[38;5;124;03m    \"\"\"\u001b[39;00m\n\u001b[1;32m--> 401\u001b[0m     \u001b[38;5;28;01mreturn\u001b[39;00m \u001b[43munique_with_mask\u001b[49m\u001b[43m(\u001b[49m\u001b[43mvalues\u001b[49m\u001b[43m)\u001b[49m\n",
      "File \u001b[1;32mc:\\Users\\Caritoshi\\Desktop\\projects\\matchX2\\.venv\\Lib\\site-packages\\pandas\\core\\algorithms.py:429\u001b[0m, in \u001b[0;36munique_with_mask\u001b[1;34m(values, mask)\u001b[0m\n\u001b[0;32m    427\u001b[0m \u001b[38;5;28;01mdef\u001b[39;00m \u001b[38;5;21munique_with_mask\u001b[39m(values, mask: npt\u001b[38;5;241m.\u001b[39mNDArray[np\u001b[38;5;241m.\u001b[39mbool_] \u001b[38;5;241m|\u001b[39m \u001b[38;5;28;01mNone\u001b[39;00m \u001b[38;5;241m=\u001b[39m \u001b[38;5;28;01mNone\u001b[39;00m):\n\u001b[0;32m    428\u001b[0m \u001b[38;5;250m    \u001b[39m\u001b[38;5;124;03m\"\"\"See algorithms.unique for docs. Takes a mask for masked arrays.\"\"\"\u001b[39;00m\n\u001b[1;32m--> 429\u001b[0m     values \u001b[38;5;241m=\u001b[39m \u001b[43m_ensure_arraylike\u001b[49m\u001b[43m(\u001b[49m\u001b[43mvalues\u001b[49m\u001b[43m,\u001b[49m\u001b[43m \u001b[49m\u001b[43mfunc_name\u001b[49m\u001b[38;5;241;43m=\u001b[39;49m\u001b[38;5;124;43m\"\u001b[39;49m\u001b[38;5;124;43munique\u001b[39;49m\u001b[38;5;124;43m\"\u001b[39;49m\u001b[43m)\u001b[49m\n\u001b[0;32m    431\u001b[0m     \u001b[38;5;28;01mif\u001b[39;00m \u001b[38;5;28misinstance\u001b[39m(values\u001b[38;5;241m.\u001b[39mdtype, ExtensionDtype):\n\u001b[0;32m    432\u001b[0m         \u001b[38;5;66;03m# Dispatch to extension dtype's unique.\u001b[39;00m\n\u001b[0;32m    433\u001b[0m         \u001b[38;5;28;01mreturn\u001b[39;00m values\u001b[38;5;241m.\u001b[39munique()\n",
      "File \u001b[1;32mc:\\Users\\Caritoshi\\Desktop\\projects\\matchX2\\.venv\\Lib\\site-packages\\pandas\\core\\algorithms.py:238\u001b[0m, in \u001b[0;36m_ensure_arraylike\u001b[1;34m(values, func_name)\u001b[0m\n\u001b[0;32m    236\u001b[0m     \u001b[38;5;28;01mif\u001b[39;00m \u001b[38;5;28misinstance\u001b[39m(values, \u001b[38;5;28mtuple\u001b[39m):\n\u001b[0;32m    237\u001b[0m         values \u001b[38;5;241m=\u001b[39m \u001b[38;5;28mlist\u001b[39m(values)\n\u001b[1;32m--> 238\u001b[0m     values \u001b[38;5;241m=\u001b[39m \u001b[43mconstruct_1d_object_array_from_listlike\u001b[49m\u001b[43m(\u001b[49m\u001b[43mvalues\u001b[49m\u001b[43m)\u001b[49m\n\u001b[0;32m    239\u001b[0m \u001b[38;5;28;01melse\u001b[39;00m:\n\u001b[0;32m    240\u001b[0m     values \u001b[38;5;241m=\u001b[39m np\u001b[38;5;241m.\u001b[39masarray(values)\n",
      "File \u001b[1;32mc:\\Users\\Caritoshi\\Desktop\\projects\\matchX2\\.venv\\Lib\\site-packages\\pandas\\core\\dtypes\\cast.py:1598\u001b[0m, in \u001b[0;36mconstruct_1d_object_array_from_listlike\u001b[1;34m(values)\u001b[0m\n\u001b[0;32m   1595\u001b[0m \u001b[38;5;66;03m# numpy will try to interpret nested lists as further dimensions, hence\u001b[39;00m\n\u001b[0;32m   1596\u001b[0m \u001b[38;5;66;03m# making a 1D array that contains list-likes is a bit tricky:\u001b[39;00m\n\u001b[0;32m   1597\u001b[0m result \u001b[38;5;241m=\u001b[39m np\u001b[38;5;241m.\u001b[39mempty(\u001b[38;5;28mlen\u001b[39m(values), dtype\u001b[38;5;241m=\u001b[39m\u001b[38;5;124m\"\u001b[39m\u001b[38;5;124mobject\u001b[39m\u001b[38;5;124m\"\u001b[39m)\n\u001b[1;32m-> 1598\u001b[0m \u001b[43mresult\u001b[49m\u001b[43m[\u001b[49m\u001b[43m:\u001b[49m\u001b[43m]\u001b[49m \u001b[38;5;241m=\u001b[39m values\n\u001b[0;32m   1599\u001b[0m \u001b[38;5;28;01mreturn\u001b[39;00m result\n",
      "\u001b[1;31mValueError\u001b[0m: could not broadcast input array from shape (120,20) into shape (120,)"
     ]
    }
   ],
   "source": [
    "df.apply(pd.unique(df))"
   ]
  }
 ],
 "metadata": {
  "kernelspec": {
   "display_name": ".venv",
   "language": "python",
   "name": "python3"
  },
  "language_info": {
   "codemirror_mode": {
    "name": "ipython",
    "version": 3
   },
   "file_extension": ".py",
   "mimetype": "text/x-python",
   "name": "python",
   "nbconvert_exporter": "python",
   "pygments_lexer": "ipython3",
   "version": "3.11.4"
  },
  "orig_nbformat": 4
 },
 "nbformat": 4,
 "nbformat_minor": 2
}
