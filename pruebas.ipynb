{
 "cells": [
  {
   "cell_type": "code",
   "execution_count": 1,
   "metadata": {},
   "outputs": [],
   "source": [
    "import nltk\n",
    "from sklearn.feature_extraction.text import CountVectorizer\n",
    "from sklearn.model_selection import train_test_split\n",
    "from sklearn.naive_bayes import MultinomialNB\n",
    "from sklearn.metrics import accuracy_score"
   ]
  },
  {
   "cell_type": "code",
   "execution_count": 5,
   "metadata": {},
   "outputs": [
    {
     "name": "stderr",
     "output_type": "stream",
     "text": [
      "[nltk_data] Downloading package punkt to\n",
      "[nltk_data]     C:\\Users\\hi4i\\AppData\\Roaming\\nltk_data...\n",
      "[nltk_data]   Package punkt is already up-to-date!\n",
      "[nltk_data] Downloading package stopwords to\n",
      "[nltk_data]     C:\\Users\\hi4i\\AppData\\Roaming\\nltk_data...\n",
      "[nltk_data]   Package stopwords is already up-to-date!\n",
      "[nltk_data] Downloading package wordnet to\n",
      "[nltk_data]     C:\\Users\\hi4i\\AppData\\Roaming\\nltk_data...\n"
     ]
    },
    {
     "data": {
      "text/plain": [
       "True"
      ]
     },
     "execution_count": 5,
     "metadata": {},
     "output_type": "execute_result"
    }
   ],
   "source": [
    "# Descargar recursos adicionales de NLTK\n",
    "nltk.download('punkt')\n",
    "nltk.download('stopwords')\n",
    "nltk.download('wordnet')"
   ]
  },
  {
   "cell_type": "code",
   "execution_count": 6,
   "metadata": {},
   "outputs": [],
   "source": [
    "# Preprocesamiento de texto\n",
    "from nltk.corpus import stopwords\n",
    "from nltk.tokenize import word_tokenize\n",
    "from nltk.stem import WordNetLemmatizer\n",
    "import string\n",
    "import re\n",
    "\n"
   ]
  },
  {
   "cell_type": "code",
   "execution_count": 7,
   "metadata": {},
   "outputs": [],
   "source": [
    "lemmatizer = WordNetLemmatizer()\n",
    "stop_words = set(stopwords.words('french'))"
   ]
  },
  {
   "cell_type": "code",
   "execution_count": 3,
   "metadata": {},
   "outputs": [],
   "source": [
    "import matcher"
   ]
  },
  {
   "cell_type": "code",
   "execution_count": 77,
   "metadata": {},
   "outputs": [],
   "source": [
    "import pandas as pd\n",
    "import numpy as np\n",
    "import re"
   ]
  },
  {
   "cell_type": "code",
   "execution_count": 38,
   "metadata": {},
   "outputs": [],
   "source": [
    "casa = matcher.get_df('origin_Madison.csv')"
   ]
  },
  {
   "cell_type": "code",
   "execution_count": 39,
   "metadata": {},
   "outputs": [
    {
     "data": {
      "text/plain": [
       "Index(['id_origin', 'ean', 'compte_fournisseur', 'code_stock_piv',\n",
       "       'brand_to_integrate', 'marque', 'designation', 'det_fdp',\n",
       "       'id_de_dupli_fdp', 'decompo', 'statut_fiscal',\n",
       "       'presence_crd_sur_les_bouteilles', 'nomenclature_douaniere', 'area',\n",
       "       'appellation', 'categorie_alcool', 'degree_of_alcohol', 'color',\n",
       "       'capacity_volume', 'vintage_year'],\n",
       "      dtype='object')"
      ]
     },
     "execution_count": 39,
     "metadata": {},
     "output_type": "execute_result"
    }
   ],
   "source": [
    "casa.columns"
   ]
  },
  {
   "cell_type": "code",
   "execution_count": 40,
   "metadata": {},
   "outputs": [],
   "source": [
    "casa2=casa.apply(pd.Series.unique)"
   ]
  },
  {
   "cell_type": "code",
   "execution_count": 42,
   "metadata": {},
   "outputs": [
    {
     "data": {
      "text/plain": [
       "array(['2019', 'NM ', '2018', '2020', '2017', '2021', '2021\\xa0',\n",
       "       '2020\\xa0', '2016', '2015', '2014', '0'], dtype=object)"
      ]
     },
     "execution_count": 42,
     "metadata": {},
     "output_type": "execute_result"
    }
   ],
   "source": [
    "casa2.apply()"
   ]
  },
  {
   "cell_type": "code",
   "execution_count": 64,
   "metadata": {},
   "outputs": [
    {
     "name": "stdout",
     "output_type": "stream",
     "text": [
      "El idioma detectado es: fr\n"
     ]
    }
   ],
   "source": [
    "from langdetect import detect\n",
    "\n",
    "texto = \"rougue\"\n",
    "\n",
    "idioma = detect(texto)\n",
    "print(\"El idioma detectado es:\", idioma)"
   ]
  },
  {
   "cell_type": "code",
   "execution_count": 44,
   "metadata": {},
   "outputs": [],
   "source": [
    "columns_idioma  = []"
   ]
  },
  {
   "cell_type": "code",
   "execution_count": 114,
   "metadata": {},
   "outputs": [],
   "source": [
    "def verificar_regex_mayoria(arr, regex_pattern, umbral_mayoria):\n",
    "    regex_match = np.vectorize(lambda x: bool(re.match(regex_pattern, str(x))))(arr)\n",
    "    cantidad_coincidencias = np.sum(regex_match)\n",
    "    return cantidad_coincidencias > (umbral_mayoria * len(arr))"
   ]
  },
  {
   "cell_type": "code",
   "execution_count": 140,
   "metadata": {},
   "outputs": [],
   "source": [
    "def verificar_idioma_mayoria(arr, idioma_objetivo, umbral_mayoria):\n",
    "    idiomas_detectados = np.vectorize(lambda texto: detect(texto) if isinstance(texto, str) else 'Desconocido')(arr)\n",
    "    cantidad_coincidencias = np.sum(idiomas_detectados == idioma_objetivo)\n",
    "    return cantidad_coincidencias > (umbral_mayoria * len(arr))"
   ]
  },
  {
   "cell_type": "code",
   "execution_count": 148,
   "metadata": {},
   "outputs": [
    {
     "name": "stdout",
     "output_type": "stream",
     "text": [
      "['SCT12866' nan 'A6UJ9A0000DV' 'SCT13319']\n",
      "['id' 'hu' 'id']\n",
      "['STO183165' nan 'STO183109' 'STO181556 ']\n",
      "['pt' 'pt' 'pt']\n",
      "['BESTHEIM' 'BORIE MANOUX' 'Bouchard Ainé et Fils' 'DOURTHE'\n",
      " 'LA PASSION DES TERROIRS' 'LES VINS DE CRUS' 'NICOLAS FEUILLATE' 'SBA'\n",
      " 'VIDAL FLEURY']\n",
      "['de' 'vi' 'fr' 'de' 'de' 'de' 'de' 'de' 'ca']\n",
      "['BESTHEIM' 'BM' 'Bouchard Ainé et Fils' 'CVBG' 'LPDT' 'LVDC'\n",
      " 'NICOLAS FEUILLATE' 'SBA' 'Vidal-Fleury']\n",
      "['de' 'de' 'fr' 'en' 'fr' 'fr' 'de' 'de' 'fr']\n",
      "['BEV_DET' nan]\n",
      "['de']\n",
      "['_det2' nan]\n",
      "['da']\n",
      "['Reprise' nan 'Reprise avec changement de lot + millésime'\n",
      " 'Reprise avec changement de lot' 'Visuel '\n",
      " 'Reprise avec changement de millésime']\n",
      "['ro' 'fr' 'fr' 'es' 'fr']\n",
      "['Oui' 'oui']\n",
      "['fr' 'fr']\n",
      "['Alsace_Lorraine' 'Bordeaux' 'Bourgogne' 'Champagne' 'Rhône']\n",
      "['fr' 'fr' 'fr' 'fr' 'vi']\n",
      "['Alsace' \"Crémant 'Alsace\" 'Alsace grand cru Mambourg' 'Pauillac'\n",
      " 'Saint-Estèphe'\n",
      " 'Coteaux Bourguignons ou Bourgogne grand ordinaire ou Bourgogne ordinaire'\n",
      " 'Rully' 'Bourgogne Hautes Côtes de Beaune'\n",
      " 'Côte de Nuits-Villages ou Vins fins de la Côte de Nuits'\n",
      " 'Bourgogne Hautes Côtes de Nuits' 'Viré-Clessé' 'Auxey-Duresses'\n",
      " 'Saint-Véran' 'Santenay' 'Chablis premier cru Côte de Léchet' 'Mercurey'\n",
      " 'Savigny-lès-Beaune' 'Auxey-Duresses premier cru Climat du Val'\n",
      " 'Chablis premier cru Montmains'\n",
      " 'Savigny-lès-Beaune premier cru Aux Guettes' 'Nuits-Saint-Georges'\n",
      " 'Pommar' 'Pomerol' 'Médoc' 'Haut-Médoc' 'Margaux' 'Saint-Julien'\n",
      " 'Pessac-Léognan' 'Moulis\\xa0ou\\xa0Moulis-en-Médoc'\n",
      " 'Saint-Emilion grand cru' 'Champagne' 'Ventoux' 'Côtes du Rhône'\n",
      " 'Côtes du Rhône Villages' 'Cairanne'\n",
      " 'Crozes-Hermitage\\xa0ou\\xa0Crozes-Ermitage' 'Muscat de Beaumes-de-Venise'\n",
      " 'Vacqueyras' 'Saint-Joseph' 'Gigondas' 'Châteauneuf-du-Pape' 'Cornas'\n",
      " 'Condrieu' 'Côte Rôtie']\n",
      "['ca' 'fr' 'fr' 'fr' 'fr' 'fr' 'cy' 'fr' 'fr' 'fr' 'fr' 'fr' 'fr' 'id'\n",
      " 'fr' 'ro' 'ca' 'fr' 'fr' 'fr' 'nl' 'sv' 'pt' 'es' 'fr' 'so' 'fr' 'fr'\n",
      " 'fr' 'en' 'fr' 'fr' 'fr' 'fr' 'fr' 'fr' 'fr' 'es' 'fr' 'pt' 'fr' 'pt'\n",
      " 'fr' 'fr']\n",
      "[\"Vin avec appellation d'origine protégée FR (AOP)\"\n",
      " \"Vin mousseux avec appellation 'origine protégée FR\"\n",
      " \"Vin avec appellation 'origine protégée FR (AOP)\" 'AOC']\n",
      "['fr' 'fr' 'fr' 'tl']\n",
      "['Blanc' 'Blanc ' 'Rosé ' 'Rouge ' 'Rouge' 'Rosé' 'Non significatif']\n",
      "['ca' 'ca' 'fr' 'en' 'en' 'fr' 'it']\n"
     ]
    }
   ],
   "source": [
    "for idx in casa2.index:\n",
    "\n",
    "    texto = casa2[idx]\n",
    "\n",
    "    if  verificar_regex_mayoria(texto, r'^[a-zA-Z]+$', 0.1):\n",
    "      nombres_empresas_sin_nan = texto[~pd.isnull(texto)]\n",
    "      print(texto)\n",
    "\n",
    "      idiomas_empresas = np.array([detect(nombre) for nombre in nombres_empresas_sin_nan])\n",
    "      print(idiomas_empresas)\n",
    "\n",
    "\n",
    "      # print(detect_idioma)\n"
   ]
  },
  {
   "cell_type": "code",
   "execution_count": 132,
   "metadata": {},
   "outputs": [],
   "source": [
    "detect_idioma = np.vectorize(lambda texto: detect(texto) if isinstance(texto, str) else 'Desconocido')"
   ]
  },
  {
   "cell_type": "code",
   "execution_count": 43,
   "metadata": {},
   "outputs": [
    {
     "data": {
      "text/plain": [
       "pandas.core.series.Series"
      ]
     },
     "execution_count": 43,
     "metadata": {},
     "output_type": "execute_result"
    }
   ],
   "source": [
    "df['Idioma'] = df['Texto'].apply(lambda texto: detect(texto) if isinstance(texto, str) else 'Desconocido')\n"
   ]
  }
 ],
 "metadata": {
  "kernelspec": {
   "display_name": ".venv",
   "language": "python",
   "name": "python3"
  },
  "language_info": {
   "codemirror_mode": {
    "name": "ipython",
    "version": 3
   },
   "file_extension": ".py",
   "mimetype": "text/x-python",
   "name": "python",
   "nbconvert_exporter": "python",
   "pygments_lexer": "ipython3",
   "version": "3.11.4"
  },
  "orig_nbformat": 4
 },
 "nbformat": 4,
 "nbformat_minor": 2
}
